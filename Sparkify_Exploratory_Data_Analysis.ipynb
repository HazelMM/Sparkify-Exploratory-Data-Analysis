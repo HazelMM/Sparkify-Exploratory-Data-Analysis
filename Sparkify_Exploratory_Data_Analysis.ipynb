{
  "cells": [
    {
      "cell_type": "markdown",
      "source": [
        "#**Sparkify Initial Data Exploration**\n",
        "Exploratory Data Analysis to assess churn and user behavior of fictional music streaming service, Sparkify."
      ],
      "metadata": {
        "id": "JltvQ6IKD3dI"
      }
    },
    {
      "cell_type": "markdown",
      "source": [
        "####**Loadind data**"
      ],
      "metadata": {
        "id": "HfdMfr6jELCC"
      }
    },
    {
      "cell_type": "markdown",
      "metadata": {
        "id": "7BREuqlERgv9"
      },
      "source": [
        "\n",
        "\n",
        "```\n",
        "Loadind data. Found here: http://udacity-dsnd.s3.amazonaws.com/sparkify/mini_sparkify_event_data.json\n",
        "```\n",
        "\n"
      ]
    },
    {
      "cell_type": "code",
      "execution_count": 1,
      "metadata": {
        "id": "2LjMDPHdRHYn"
      },
      "outputs": [],
      "source": [
        "import pandas as pd\n",
        "import numpy as np\n",
        "import datetime\n",
        "import seaborn as sns\n",
        "import matplotlib.pyplot as plt"
      ]
    },
    {
      "cell_type": "code",
      "execution_count": 2,
      "metadata": {
        "id": "uZVxJF0RlR2U"
      },
      "outputs": [],
      "source": [
        "# read the entire file into a python array\n",
        "with open('mini_sparkify_event_data.json', 'r') as f:\n",
        "    data = f.readlines()\n",
        "\n",
        "# remove the trailing \"\\n\" from each line\n",
        "data = map(lambda x: x.rstrip(), data)\n",
        "\n",
        "data_json_str = \"[\" + ','.join(data) + \"]\"\n",
        "\n",
        "# now, load it into pandas\n",
        "data_df = pd.read_json(data_json_str)"
      ]
    },
    {
      "cell_type": "markdown",
      "metadata": {
        "id": "ooEQuYYFe0qS"
      },
      "source": [
        "######**Evaluating data structure:**\n",
        "\n",
        "Analyzing the dataset using the column and shape method to understand the input data and how best to analyze it."
      ]
    },
    {
      "cell_type": "code",
      "execution_count": 3,
      "metadata": {
        "colab": {
          "base_uri": "https://localhost:8080/"
        },
        "id": "eX-G9zkvlmbB",
        "outputId": "48cca07c-01f7-4f56-e0a0-b07110205c18"
      },
      "outputs": [
        {
          "output_type": "execute_result",
          "data": {
            "text/plain": [
              "Index(['ts', 'userId', 'sessionId', 'page', 'auth', 'method', 'status',\n",
              "       'level', 'itemInSession', 'location', 'userAgent', 'lastName',\n",
              "       'firstName', 'registration', 'gender', 'artist', 'song', 'length'],\n",
              "      dtype='object')"
            ]
          },
          "metadata": {},
          "execution_count": 3
        }
      ],
      "source": [
        "#view the column names\n",
        "\n",
        "df = data_df \n",
        "df.columns"
      ]
    },
    {
      "cell_type": "markdown",
      "metadata": {
        "id": "6ClAm3gRsd4h"
      },
      "source": [
        "\n",
        "\n",
        "```\n",
        "itemInSession: Item count in a session \n",
        "status: HTTP status (ex. 200, Successful responses, 300, Redirection messages, 400, Client error responses, 500, Server error responses)\n",
        "ts: Event timestamp(unix timestamp)\n",
        "Length: song duration in seconds\n",
        "```\n",
        "\n"
      ]
    },
    {
      "cell_type": "code",
      "execution_count": 4,
      "metadata": {
        "colab": {
          "base_uri": "https://localhost:8080/"
        },
        "id": "ti3a0AUIlm37",
        "outputId": "7a8b6000-cf13-4437-eb93-038b745503c3"
      },
      "outputs": [
        {
          "output_type": "execute_result",
          "data": {
            "text/plain": [
              "(286500, 18)"
            ]
          },
          "metadata": {},
          "execution_count": 4
        }
      ],
      "source": [
        "df.shape"
      ]
    },
    {
      "cell_type": "code",
      "execution_count": 5,
      "metadata": {
        "colab": {
          "base_uri": "https://localhost:8080/"
        },
        "id": "OULtfZgHu_4-",
        "outputId": "9943a897-0e0c-401a-bc0a-10001e7d8be4"
      },
      "outputs": [
        {
          "output_type": "execute_result",
          "data": {
            "text/plain": [
              "ts                 int64\n",
              "userId            object\n",
              "sessionId          int64\n",
              "page              object\n",
              "auth              object\n",
              "method            object\n",
              "status             int64\n",
              "level             object\n",
              "itemInSession      int64\n",
              "location          object\n",
              "userAgent         object\n",
              "lastName          object\n",
              "firstName         object\n",
              "registration     float64\n",
              "gender            object\n",
              "artist            object\n",
              "song              object\n",
              "length           float64\n",
              "dtype: object"
            ]
          },
          "metadata": {},
          "execution_count": 5
        }
      ],
      "source": [
        "df.dtypes"
      ]
    },
    {
      "cell_type": "code",
      "execution_count": 6,
      "metadata": {
        "colab": {
          "base_uri": "https://localhost:8080/"
        },
        "id": "1vxd-X6LvBss",
        "outputId": "b9df39eb-3149-4dee-f020-db50415bad2b"
      },
      "outputs": [
        {
          "output_type": "execute_result",
          "data": {
            "text/plain": [
              "ts               False\n",
              "userId           False\n",
              "sessionId        False\n",
              "page             False\n",
              "auth             False\n",
              "method           False\n",
              "status           False\n",
              "level            False\n",
              "itemInSession    False\n",
              "location          True\n",
              "userAgent         True\n",
              "lastName          True\n",
              "firstName         True\n",
              "registration      True\n",
              "gender            True\n",
              "artist            True\n",
              "song              True\n",
              "length            True\n",
              "dtype: bool"
            ]
          },
          "metadata": {},
          "execution_count": 6
        }
      ],
      "source": [
        "df.isna().any()"
      ]
    },
    {
      "cell_type": "code",
      "execution_count": 7,
      "metadata": {
        "colab": {
          "base_uri": "https://localhost:8080/"
        },
        "id": "o8QJIh0yfxiv",
        "outputId": "c51b8453-3992-4598-ae41-857c4467fc6e"
      },
      "outputs": [
        {
          "output_type": "execute_result",
          "data": {
            "text/plain": [
              "226"
            ]
          },
          "metadata": {},
          "execution_count": 7
        }
      ],
      "source": [
        "# how many unique users \n",
        "\n",
        "len(df['userId'].unique())"
      ]
    },
    {
      "cell_type": "markdown",
      "metadata": {
        "id": "LESV_y5puxuA"
      },
      "source": [
        "#####**Cleaning up data**"
      ]
    },
    {
      "cell_type": "markdown",
      "source": [
        "From looking at our data, missing values are associated with missing userIds. Since we are interested in analyzing user behavior, we will drop rows with missing user ID"
      ],
      "metadata": {
        "id": "Po9K21abEgX5"
      }
    },
    {
      "cell_type": "code",
      "execution_count": 8,
      "metadata": {
        "colab": {
          "base_uri": "https://localhost:8080/"
        },
        "id": "QVoEm0gK9iPB",
        "outputId": "46bdc965-41a6-44f5-ab33-54d1ab53cf4e"
      },
      "outputs": [
        {
          "output_type": "execute_result",
          "data": {
            "text/plain": [
              "ts               False\n",
              "userId           False\n",
              "sessionId        False\n",
              "page             False\n",
              "auth             False\n",
              "method           False\n",
              "status           False\n",
              "level            False\n",
              "itemInSession    False\n",
              "location          True\n",
              "userAgent         True\n",
              "lastName          True\n",
              "firstName         True\n",
              "registration      True\n",
              "gender            True\n",
              "artist            True\n",
              "song              True\n",
              "length            True\n",
              "dtype: bool"
            ]
          },
          "metadata": {},
          "execution_count": 8
        }
      ],
      "source": [
        "\n",
        "# Verifying\n",
        "filtered_df = df[df['userId'] == '']\n",
        "filtered_df.isna().any()"
      ]
    },
    {
      "cell_type": "code",
      "execution_count": 9,
      "metadata": {
        "colab": {
          "base_uri": "https://localhost:8080/"
        },
        "id": "wNKtgWrIvU5C",
        "outputId": "57b3d422-a287-4cf6-a068-05d177539cc1"
      },
      "outputs": [
        {
          "output_type": "stream",
          "name": "stdout",
          "text": [
            "8346 rows were missing user ID and were dropped\n"
          ]
        }
      ],
      "source": [
        "# We will drop rows with missing user ID\n",
        "\n",
        "def drop_rows_with_missing_user_id(df):\n",
        "    original_rows = len(df)\n",
        "    df = df[df['userId'] != '']\n",
        "    dropped_rows = original_rows - len(df)\n",
        "    print(f\"{dropped_rows} rows were missing user ID and were dropped\")\n",
        "    return df\n",
        "\n",
        "new_df = drop_rows_with_missing_user_id(df)"
      ]
    },
    {
      "cell_type": "markdown",
      "metadata": {
        "id": "wuSum3uhM5Ik"
      },
      "source": [
        "The rest of the missing values seem to be for artist, song, and song length. This is most likely because the page isn't associated with the user listening to music. Since we are not interested in the specific song information in this analysis, we will create a songs_per_session column and drop, Artist, Song, and Length."
      ]
    },
    {
      "cell_type": "code",
      "execution_count": 10,
      "metadata": {
        "colab": {
          "base_uri": "https://localhost:8080/"
        },
        "id": "_RQcX9cPLaWH",
        "outputId": "d6e64a6b-eb3b-44f1-a974-ffad183de3e7"
      },
      "outputs": [
        {
          "output_type": "execute_result",
          "data": {
            "text/plain": [
              "ts               False\n",
              "userId           False\n",
              "sessionId        False\n",
              "page             False\n",
              "auth             False\n",
              "method           False\n",
              "status           False\n",
              "level            False\n",
              "itemInSession    False\n",
              "location         False\n",
              "userAgent        False\n",
              "lastName         False\n",
              "firstName        False\n",
              "registration     False\n",
              "gender           False\n",
              "artist            True\n",
              "song              True\n",
              "length            True\n",
              "dtype: bool"
            ]
          },
          "metadata": {},
          "execution_count": 10
        }
      ],
      "source": [
        "df = new_df\n",
        "df.isna().any()"
      ]
    },
    {
      "cell_type": "code",
      "execution_count": 11,
      "metadata": {
        "colab": {
          "base_uri": "https://localhost:8080/"
        },
        "id": "kMVwWmxnNqZx",
        "outputId": "36317e9e-0113-4845-8865-b202dee00347"
      },
      "outputs": [
        {
          "output_type": "stream",
          "name": "stdout",
          "text": [
            "['Add to Playlist' 'Roll Advert' 'Thumbs Up' 'Downgrade' 'Thumbs Down'\n",
            " 'Home' 'Logout' 'Help' 'Upgrade' 'Add Friend' 'Settings' 'Submit Upgrade'\n",
            " 'About' 'Submit Downgrade' 'Error' 'Save Settings' 'Cancel'\n",
            " 'Cancellation Confirmation']\n"
          ]
        }
      ],
      "source": [
        "#where is song info missing?\n",
        "\n",
        "missing_song_values = df[df['song'].isna()]\n",
        "page_values = missing_song_values['page'].unique()\n",
        "print(page_values)\n"
      ]
    },
    {
      "cell_type": "code",
      "execution_count": 12,
      "metadata": {
        "colab": {
          "base_uri": "https://localhost:8080/"
        },
        "id": "OIgeRzOANxav",
        "outputId": "744fbae3-5a26-4a90-dbe3-b03c150ad8ae"
      },
      "outputs": [
        {
          "output_type": "stream",
          "name": "stdout",
          "text": [
            "['NextSong']\n"
          ]
        }
      ],
      "source": [
        "#which pages have song info \n",
        "\n",
        "missing_song_values2 = df[~df['song'].isna()]\n",
        "page_values2 = missing_song_values2['page'].unique()\n",
        "print(page_values2)\n"
      ]
    },
    {
      "cell_type": "code",
      "execution_count": 13,
      "metadata": {
        "colab": {
          "base_uri": "https://localhost:8080/",
          "height": 531
        },
        "id": "X-NdGHFG5hMs",
        "outputId": "c4190441-fc0b-412c-d6f0-5f160886a9e8"
      },
      "outputs": [
        {
          "output_type": "execute_result",
          "data": {
            "text/plain": [
              "              ts userId  sessionId      page       auth method  status level  \\\n",
              "0  1538352117000     30         29  NextSong  Logged In    PUT     200  paid   \n",
              "1  1538352180000      9          8  NextSong  Logged In    PUT     200  free   \n",
              "2  1538352394000     30         29  NextSong  Logged In    PUT     200  paid   \n",
              "3  1538352416000      9          8  NextSong  Logged In    PUT     200  free   \n",
              "4  1538352676000     30         29  NextSong  Logged In    PUT     200  paid   \n",
              "\n",
              "   itemInSession                        location  \\\n",
              "0             50                 Bakersfield, CA   \n",
              "1             79  Boston-Cambridge-Newton, MA-NH   \n",
              "2             51                 Bakersfield, CA   \n",
              "3             80  Boston-Cambridge-Newton, MA-NH   \n",
              "4             52                 Bakersfield, CA   \n",
              "\n",
              "                                           userAgent lastName firstName  \\\n",
              "0  Mozilla/5.0 (Windows NT 6.1; WOW64; rv:31.0) G...  Freeman     Colin   \n",
              "1  \"Mozilla/5.0 (Windows NT 6.1; WOW64) AppleWebK...     Long     Micah   \n",
              "2  Mozilla/5.0 (Windows NT 6.1; WOW64; rv:31.0) G...  Freeman     Colin   \n",
              "3  \"Mozilla/5.0 (Windows NT 6.1; WOW64) AppleWebK...     Long     Micah   \n",
              "4  Mozilla/5.0 (Windows NT 6.1; WOW64; rv:31.0) G...  Freeman     Colin   \n",
              "\n",
              "   registration gender  songs_per_session  \n",
              "0  1.538173e+12      M                 36  \n",
              "1  1.538332e+12      M                 33  \n",
              "2  1.538173e+12      M                 36  \n",
              "3  1.538332e+12      M                 33  \n",
              "4  1.538173e+12      M                 36  "
            ],
            "text/html": [
              "\n",
              "  <div id=\"df-d7531ff4-c862-40c6-82b0-f9e5359d5394\">\n",
              "    <div class=\"colab-df-container\">\n",
              "      <div>\n",
              "<style scoped>\n",
              "    .dataframe tbody tr th:only-of-type {\n",
              "        vertical-align: middle;\n",
              "    }\n",
              "\n",
              "    .dataframe tbody tr th {\n",
              "        vertical-align: top;\n",
              "    }\n",
              "\n",
              "    .dataframe thead th {\n",
              "        text-align: right;\n",
              "    }\n",
              "</style>\n",
              "<table border=\"1\" class=\"dataframe\">\n",
              "  <thead>\n",
              "    <tr style=\"text-align: right;\">\n",
              "      <th></th>\n",
              "      <th>ts</th>\n",
              "      <th>userId</th>\n",
              "      <th>sessionId</th>\n",
              "      <th>page</th>\n",
              "      <th>auth</th>\n",
              "      <th>method</th>\n",
              "      <th>status</th>\n",
              "      <th>level</th>\n",
              "      <th>itemInSession</th>\n",
              "      <th>location</th>\n",
              "      <th>userAgent</th>\n",
              "      <th>lastName</th>\n",
              "      <th>firstName</th>\n",
              "      <th>registration</th>\n",
              "      <th>gender</th>\n",
              "      <th>songs_per_session</th>\n",
              "    </tr>\n",
              "  </thead>\n",
              "  <tbody>\n",
              "    <tr>\n",
              "      <th>0</th>\n",
              "      <td>1538352117000</td>\n",
              "      <td>30</td>\n",
              "      <td>29</td>\n",
              "      <td>NextSong</td>\n",
              "      <td>Logged In</td>\n",
              "      <td>PUT</td>\n",
              "      <td>200</td>\n",
              "      <td>paid</td>\n",
              "      <td>50</td>\n",
              "      <td>Bakersfield, CA</td>\n",
              "      <td>Mozilla/5.0 (Windows NT 6.1; WOW64; rv:31.0) G...</td>\n",
              "      <td>Freeman</td>\n",
              "      <td>Colin</td>\n",
              "      <td>1.538173e+12</td>\n",
              "      <td>M</td>\n",
              "      <td>36</td>\n",
              "    </tr>\n",
              "    <tr>\n",
              "      <th>1</th>\n",
              "      <td>1538352180000</td>\n",
              "      <td>9</td>\n",
              "      <td>8</td>\n",
              "      <td>NextSong</td>\n",
              "      <td>Logged In</td>\n",
              "      <td>PUT</td>\n",
              "      <td>200</td>\n",
              "      <td>free</td>\n",
              "      <td>79</td>\n",
              "      <td>Boston-Cambridge-Newton, MA-NH</td>\n",
              "      <td>\"Mozilla/5.0 (Windows NT 6.1; WOW64) AppleWebK...</td>\n",
              "      <td>Long</td>\n",
              "      <td>Micah</td>\n",
              "      <td>1.538332e+12</td>\n",
              "      <td>M</td>\n",
              "      <td>33</td>\n",
              "    </tr>\n",
              "    <tr>\n",
              "      <th>2</th>\n",
              "      <td>1538352394000</td>\n",
              "      <td>30</td>\n",
              "      <td>29</td>\n",
              "      <td>NextSong</td>\n",
              "      <td>Logged In</td>\n",
              "      <td>PUT</td>\n",
              "      <td>200</td>\n",
              "      <td>paid</td>\n",
              "      <td>51</td>\n",
              "      <td>Bakersfield, CA</td>\n",
              "      <td>Mozilla/5.0 (Windows NT 6.1; WOW64; rv:31.0) G...</td>\n",
              "      <td>Freeman</td>\n",
              "      <td>Colin</td>\n",
              "      <td>1.538173e+12</td>\n",
              "      <td>M</td>\n",
              "      <td>36</td>\n",
              "    </tr>\n",
              "    <tr>\n",
              "      <th>3</th>\n",
              "      <td>1538352416000</td>\n",
              "      <td>9</td>\n",
              "      <td>8</td>\n",
              "      <td>NextSong</td>\n",
              "      <td>Logged In</td>\n",
              "      <td>PUT</td>\n",
              "      <td>200</td>\n",
              "      <td>free</td>\n",
              "      <td>80</td>\n",
              "      <td>Boston-Cambridge-Newton, MA-NH</td>\n",
              "      <td>\"Mozilla/5.0 (Windows NT 6.1; WOW64) AppleWebK...</td>\n",
              "      <td>Long</td>\n",
              "      <td>Micah</td>\n",
              "      <td>1.538332e+12</td>\n",
              "      <td>M</td>\n",
              "      <td>33</td>\n",
              "    </tr>\n",
              "    <tr>\n",
              "      <th>4</th>\n",
              "      <td>1538352676000</td>\n",
              "      <td>30</td>\n",
              "      <td>29</td>\n",
              "      <td>NextSong</td>\n",
              "      <td>Logged In</td>\n",
              "      <td>PUT</td>\n",
              "      <td>200</td>\n",
              "      <td>paid</td>\n",
              "      <td>52</td>\n",
              "      <td>Bakersfield, CA</td>\n",
              "      <td>Mozilla/5.0 (Windows NT 6.1; WOW64; rv:31.0) G...</td>\n",
              "      <td>Freeman</td>\n",
              "      <td>Colin</td>\n",
              "      <td>1.538173e+12</td>\n",
              "      <td>M</td>\n",
              "      <td>36</td>\n",
              "    </tr>\n",
              "  </tbody>\n",
              "</table>\n",
              "</div>\n",
              "      <button class=\"colab-df-convert\" onclick=\"convertToInteractive('df-d7531ff4-c862-40c6-82b0-f9e5359d5394')\"\n",
              "              title=\"Convert this dataframe to an interactive table.\"\n",
              "              style=\"display:none;\">\n",
              "        \n",
              "  <svg xmlns=\"http://www.w3.org/2000/svg\" height=\"24px\"viewBox=\"0 0 24 24\"\n",
              "       width=\"24px\">\n",
              "    <path d=\"M0 0h24v24H0V0z\" fill=\"none\"/>\n",
              "    <path d=\"M18.56 5.44l.94 2.06.94-2.06 2.06-.94-2.06-.94-.94-2.06-.94 2.06-2.06.94zm-11 1L8.5 8.5l.94-2.06 2.06-.94-2.06-.94L8.5 2.5l-.94 2.06-2.06.94zm10 10l.94 2.06.94-2.06 2.06-.94-2.06-.94-.94-2.06-.94 2.06-2.06.94z\"/><path d=\"M17.41 7.96l-1.37-1.37c-.4-.4-.92-.59-1.43-.59-.52 0-1.04.2-1.43.59L10.3 9.45l-7.72 7.72c-.78.78-.78 2.05 0 2.83L4 21.41c.39.39.9.59 1.41.59.51 0 1.02-.2 1.41-.59l7.78-7.78 2.81-2.81c.8-.78.8-2.07 0-2.86zM5.41 20L4 18.59l7.72-7.72 1.47 1.35L5.41 20z\"/>\n",
              "  </svg>\n",
              "      </button>\n",
              "      \n",
              "  <style>\n",
              "    .colab-df-container {\n",
              "      display:flex;\n",
              "      flex-wrap:wrap;\n",
              "      gap: 12px;\n",
              "    }\n",
              "\n",
              "    .colab-df-convert {\n",
              "      background-color: #E8F0FE;\n",
              "      border: none;\n",
              "      border-radius: 50%;\n",
              "      cursor: pointer;\n",
              "      display: none;\n",
              "      fill: #1967D2;\n",
              "      height: 32px;\n",
              "      padding: 0 0 0 0;\n",
              "      width: 32px;\n",
              "    }\n",
              "\n",
              "    .colab-df-convert:hover {\n",
              "      background-color: #E2EBFA;\n",
              "      box-shadow: 0px 1px 2px rgba(60, 64, 67, 0.3), 0px 1px 3px 1px rgba(60, 64, 67, 0.15);\n",
              "      fill: #174EA6;\n",
              "    }\n",
              "\n",
              "    [theme=dark] .colab-df-convert {\n",
              "      background-color: #3B4455;\n",
              "      fill: #D2E3FC;\n",
              "    }\n",
              "\n",
              "    [theme=dark] .colab-df-convert:hover {\n",
              "      background-color: #434B5C;\n",
              "      box-shadow: 0px 1px 3px 1px rgba(0, 0, 0, 0.15);\n",
              "      filter: drop-shadow(0px 1px 2px rgba(0, 0, 0, 0.3));\n",
              "      fill: #FFFFFF;\n",
              "    }\n",
              "  </style>\n",
              "\n",
              "      <script>\n",
              "        const buttonEl =\n",
              "          document.querySelector('#df-d7531ff4-c862-40c6-82b0-f9e5359d5394 button.colab-df-convert');\n",
              "        buttonEl.style.display =\n",
              "          google.colab.kernel.accessAllowed ? 'block' : 'none';\n",
              "\n",
              "        async function convertToInteractive(key) {\n",
              "          const element = document.querySelector('#df-d7531ff4-c862-40c6-82b0-f9e5359d5394');\n",
              "          const dataTable =\n",
              "            await google.colab.kernel.invokeFunction('convertToInteractive',\n",
              "                                                     [key], {});\n",
              "          if (!dataTable) return;\n",
              "\n",
              "          const docLinkHtml = 'Like what you see? Visit the ' +\n",
              "            '<a target=\"_blank\" href=https://colab.research.google.com/notebooks/data_table.ipynb>data table notebook</a>'\n",
              "            + ' to learn more about interactive tables.';\n",
              "          element.innerHTML = '';\n",
              "          dataTable['output_type'] = 'display_data';\n",
              "          await google.colab.output.renderOutput(dataTable, element);\n",
              "          const docLink = document.createElement('div');\n",
              "          docLink.innerHTML = docLinkHtml;\n",
              "          element.appendChild(docLink);\n",
              "        }\n",
              "      </script>\n",
              "    </div>\n",
              "  </div>\n",
              "  "
            ]
          },
          "metadata": {},
          "execution_count": 13
        }
      ],
      "source": [
        "# Count the number of songs per session for each user\n",
        "songs_per_session = df.groupby(['userId', 'sessionId'])['song'].count().reset_index()\n",
        "\n",
        "# Rename the column to 'songs_per_session'\n",
        "songs_per_session.rename(columns={'song': 'songs_per_session'}, inplace=True)\n",
        "\n",
        "# Merge the 'songs_per_session' column back into the original DataFrame\n",
        "df = df.merge(songs_per_session, on=['userId', 'sessionId'], how='left')\n",
        "\n",
        "# Drop the unnecessary columns (song, artist, length)\n",
        "df.drop(['song', 'artist', 'length'], axis=1, inplace=True)\n",
        "df.head(2)"
      ]
    },
    {
      "cell_type": "markdown",
      "source": [
        "Converting date and time field from unix timestamp\n"
      ],
      "metadata": {
        "id": "V3wJpXWqF3xL"
      }
    },
    {
      "cell_type": "code",
      "execution_count": 14,
      "metadata": {
        "id": "lAL-D1B7jLTz"
      },
      "outputs": [],
      "source": [
        "# Define a function to convert timestamp to datetime\n",
        "def convert_timestamp(timestamp):\n",
        "    dt = datetime.datetime.fromtimestamp(timestamp / 1000)\n",
        "    return dt.strftime(\"%Y-%m-%d %H:%M:%S\")\n",
        "\n",
        "# Apply the conversion function to the 'ts' column\n",
        "df['formatted_ts'] = df['ts'].apply(lambda x: convert_timestamp(x))"
      ]
    },
    {
      "cell_type": "code",
      "execution_count": 15,
      "metadata": {
        "colab": {
          "base_uri": "https://localhost:8080/",
          "height": 364
        },
        "id": "pNCfVshnj9-0",
        "outputId": "ffef8f38-decc-4066-ab15-a30b78028355"
      },
      "outputs": [
        {
          "output_type": "execute_result",
          "data": {
            "text/plain": [
              "              ts userId  sessionId      page       auth method  status level  \\\n",
              "0  1538352117000     30         29  NextSong  Logged In    PUT     200  paid   \n",
              "1  1538352180000      9          8  NextSong  Logged In    PUT     200  free   \n",
              "2  1538352394000     30         29  NextSong  Logged In    PUT     200  paid   \n",
              "\n",
              "   itemInSession                        location  \\\n",
              "0             50                 Bakersfield, CA   \n",
              "1             79  Boston-Cambridge-Newton, MA-NH   \n",
              "2             51                 Bakersfield, CA   \n",
              "\n",
              "                                           userAgent lastName firstName  \\\n",
              "0  Mozilla/5.0 (Windows NT 6.1; WOW64; rv:31.0) G...  Freeman     Colin   \n",
              "1  \"Mozilla/5.0 (Windows NT 6.1; WOW64) AppleWebK...     Long     Micah   \n",
              "2  Mozilla/5.0 (Windows NT 6.1; WOW64; rv:31.0) G...  Freeman     Colin   \n",
              "\n",
              "   registration gender  songs_per_session         formatted_ts  \n",
              "0  1.538173e+12      M                 36  2018-10-01 00:01:57  \n",
              "1  1.538332e+12      M                 33  2018-10-01 00:03:00  \n",
              "2  1.538173e+12      M                 36  2018-10-01 00:06:34  "
            ],
            "text/html": [
              "\n",
              "  <div id=\"df-c94f7d64-7fbb-483a-bc96-f12350ccf908\">\n",
              "    <div class=\"colab-df-container\">\n",
              "      <div>\n",
              "<style scoped>\n",
              "    .dataframe tbody tr th:only-of-type {\n",
              "        vertical-align: middle;\n",
              "    }\n",
              "\n",
              "    .dataframe tbody tr th {\n",
              "        vertical-align: top;\n",
              "    }\n",
              "\n",
              "    .dataframe thead th {\n",
              "        text-align: right;\n",
              "    }\n",
              "</style>\n",
              "<table border=\"1\" class=\"dataframe\">\n",
              "  <thead>\n",
              "    <tr style=\"text-align: right;\">\n",
              "      <th></th>\n",
              "      <th>ts</th>\n",
              "      <th>userId</th>\n",
              "      <th>sessionId</th>\n",
              "      <th>page</th>\n",
              "      <th>auth</th>\n",
              "      <th>method</th>\n",
              "      <th>status</th>\n",
              "      <th>level</th>\n",
              "      <th>itemInSession</th>\n",
              "      <th>location</th>\n",
              "      <th>userAgent</th>\n",
              "      <th>lastName</th>\n",
              "      <th>firstName</th>\n",
              "      <th>registration</th>\n",
              "      <th>gender</th>\n",
              "      <th>songs_per_session</th>\n",
              "      <th>formatted_ts</th>\n",
              "    </tr>\n",
              "  </thead>\n",
              "  <tbody>\n",
              "    <tr>\n",
              "      <th>0</th>\n",
              "      <td>1538352117000</td>\n",
              "      <td>30</td>\n",
              "      <td>29</td>\n",
              "      <td>NextSong</td>\n",
              "      <td>Logged In</td>\n",
              "      <td>PUT</td>\n",
              "      <td>200</td>\n",
              "      <td>paid</td>\n",
              "      <td>50</td>\n",
              "      <td>Bakersfield, CA</td>\n",
              "      <td>Mozilla/5.0 (Windows NT 6.1; WOW64; rv:31.0) G...</td>\n",
              "      <td>Freeman</td>\n",
              "      <td>Colin</td>\n",
              "      <td>1.538173e+12</td>\n",
              "      <td>M</td>\n",
              "      <td>36</td>\n",
              "      <td>2018-10-01 00:01:57</td>\n",
              "    </tr>\n",
              "    <tr>\n",
              "      <th>1</th>\n",
              "      <td>1538352180000</td>\n",
              "      <td>9</td>\n",
              "      <td>8</td>\n",
              "      <td>NextSong</td>\n",
              "      <td>Logged In</td>\n",
              "      <td>PUT</td>\n",
              "      <td>200</td>\n",
              "      <td>free</td>\n",
              "      <td>79</td>\n",
              "      <td>Boston-Cambridge-Newton, MA-NH</td>\n",
              "      <td>\"Mozilla/5.0 (Windows NT 6.1; WOW64) AppleWebK...</td>\n",
              "      <td>Long</td>\n",
              "      <td>Micah</td>\n",
              "      <td>1.538332e+12</td>\n",
              "      <td>M</td>\n",
              "      <td>33</td>\n",
              "      <td>2018-10-01 00:03:00</td>\n",
              "    </tr>\n",
              "    <tr>\n",
              "      <th>2</th>\n",
              "      <td>1538352394000</td>\n",
              "      <td>30</td>\n",
              "      <td>29</td>\n",
              "      <td>NextSong</td>\n",
              "      <td>Logged In</td>\n",
              "      <td>PUT</td>\n",
              "      <td>200</td>\n",
              "      <td>paid</td>\n",
              "      <td>51</td>\n",
              "      <td>Bakersfield, CA</td>\n",
              "      <td>Mozilla/5.0 (Windows NT 6.1; WOW64; rv:31.0) G...</td>\n",
              "      <td>Freeman</td>\n",
              "      <td>Colin</td>\n",
              "      <td>1.538173e+12</td>\n",
              "      <td>M</td>\n",
              "      <td>36</td>\n",
              "      <td>2018-10-01 00:06:34</td>\n",
              "    </tr>\n",
              "  </tbody>\n",
              "</table>\n",
              "</div>\n",
              "      <button class=\"colab-df-convert\" onclick=\"convertToInteractive('df-c94f7d64-7fbb-483a-bc96-f12350ccf908')\"\n",
              "              title=\"Convert this dataframe to an interactive table.\"\n",
              "              style=\"display:none;\">\n",
              "        \n",
              "  <svg xmlns=\"http://www.w3.org/2000/svg\" height=\"24px\"viewBox=\"0 0 24 24\"\n",
              "       width=\"24px\">\n",
              "    <path d=\"M0 0h24v24H0V0z\" fill=\"none\"/>\n",
              "    <path d=\"M18.56 5.44l.94 2.06.94-2.06 2.06-.94-2.06-.94-.94-2.06-.94 2.06-2.06.94zm-11 1L8.5 8.5l.94-2.06 2.06-.94-2.06-.94L8.5 2.5l-.94 2.06-2.06.94zm10 10l.94 2.06.94-2.06 2.06-.94-2.06-.94-.94-2.06-.94 2.06-2.06.94z\"/><path d=\"M17.41 7.96l-1.37-1.37c-.4-.4-.92-.59-1.43-.59-.52 0-1.04.2-1.43.59L10.3 9.45l-7.72 7.72c-.78.78-.78 2.05 0 2.83L4 21.41c.39.39.9.59 1.41.59.51 0 1.02-.2 1.41-.59l7.78-7.78 2.81-2.81c.8-.78.8-2.07 0-2.86zM5.41 20L4 18.59l7.72-7.72 1.47 1.35L5.41 20z\"/>\n",
              "  </svg>\n",
              "      </button>\n",
              "      \n",
              "  <style>\n",
              "    .colab-df-container {\n",
              "      display:flex;\n",
              "      flex-wrap:wrap;\n",
              "      gap: 12px;\n",
              "    }\n",
              "\n",
              "    .colab-df-convert {\n",
              "      background-color: #E8F0FE;\n",
              "      border: none;\n",
              "      border-radius: 50%;\n",
              "      cursor: pointer;\n",
              "      display: none;\n",
              "      fill: #1967D2;\n",
              "      height: 32px;\n",
              "      padding: 0 0 0 0;\n",
              "      width: 32px;\n",
              "    }\n",
              "\n",
              "    .colab-df-convert:hover {\n",
              "      background-color: #E2EBFA;\n",
              "      box-shadow: 0px 1px 2px rgba(60, 64, 67, 0.3), 0px 1px 3px 1px rgba(60, 64, 67, 0.15);\n",
              "      fill: #174EA6;\n",
              "    }\n",
              "\n",
              "    [theme=dark] .colab-df-convert {\n",
              "      background-color: #3B4455;\n",
              "      fill: #D2E3FC;\n",
              "    }\n",
              "\n",
              "    [theme=dark] .colab-df-convert:hover {\n",
              "      background-color: #434B5C;\n",
              "      box-shadow: 0px 1px 3px 1px rgba(0, 0, 0, 0.15);\n",
              "      filter: drop-shadow(0px 1px 2px rgba(0, 0, 0, 0.3));\n",
              "      fill: #FFFFFF;\n",
              "    }\n",
              "  </style>\n",
              "\n",
              "      <script>\n",
              "        const buttonEl =\n",
              "          document.querySelector('#df-c94f7d64-7fbb-483a-bc96-f12350ccf908 button.colab-df-convert');\n",
              "        buttonEl.style.display =\n",
              "          google.colab.kernel.accessAllowed ? 'block' : 'none';\n",
              "\n",
              "        async function convertToInteractive(key) {\n",
              "          const element = document.querySelector('#df-c94f7d64-7fbb-483a-bc96-f12350ccf908');\n",
              "          const dataTable =\n",
              "            await google.colab.kernel.invokeFunction('convertToInteractive',\n",
              "                                                     [key], {});\n",
              "          if (!dataTable) return;\n",
              "\n",
              "          const docLinkHtml = 'Like what you see? Visit the ' +\n",
              "            '<a target=\"_blank\" href=https://colab.research.google.com/notebooks/data_table.ipynb>data table notebook</a>'\n",
              "            + ' to learn more about interactive tables.';\n",
              "          element.innerHTML = '';\n",
              "          dataTable['output_type'] = 'display_data';\n",
              "          await google.colab.output.renderOutput(dataTable, element);\n",
              "          const docLink = document.createElement('div');\n",
              "          docLink.innerHTML = docLinkHtml;\n",
              "          element.appendChild(docLink);\n",
              "        }\n",
              "      </script>\n",
              "    </div>\n",
              "  </div>\n",
              "  "
            ]
          },
          "metadata": {},
          "execution_count": 15
        }
      ],
      "source": [
        "#checking our columns\n",
        "\n",
        "df.head(3)"
      ]
    },
    {
      "cell_type": "markdown",
      "metadata": {
        "id": "pQBTYUyoR09O"
      },
      "source": [
        "###### **Duplicates**\n",
        "\n",
        "There are no duplicates in the dataset"
      ]
    },
    {
      "cell_type": "code",
      "execution_count": 16,
      "metadata": {
        "colab": {
          "base_uri": "https://localhost:8080/"
        },
        "id": "3XnirReRM1aB",
        "outputId": "92acb102-ddef-419b-c475-5363f0d631c6"
      },
      "outputs": [
        {
          "output_type": "execute_result",
          "data": {
            "text/plain": [
              "False"
            ]
          },
          "metadata": {},
          "execution_count": 16
        }
      ],
      "source": [
        "# checking for duplicates\n",
        "\n",
        "df.duplicated().any()"
      ]
    },
    {
      "cell_type": "code",
      "source": [
        "df.shape"
      ],
      "metadata": {
        "colab": {
          "base_uri": "https://localhost:8080/"
        },
        "id": "7JW_B9dkz0wo",
        "outputId": "c6bf3ae5-b1ab-4bad-bb1c-6e4794e6d15f"
      },
      "execution_count": 70,
      "outputs": [
        {
          "output_type": "execute_result",
          "data": {
            "text/plain": [
              "(278154, 21)"
            ]
          },
          "metadata": {},
          "execution_count": 70
        }
      ]
    },
    {
      "cell_type": "markdown",
      "source": [
        "**Updated**: The dataset now contains 278154 rows and 21 columns."
      ],
      "metadata": {
        "id": "oAaWb6k0z78q"
      }
    },
    {
      "cell_type": "markdown",
      "metadata": {
        "id": "tVOzfsXWSARu"
      },
      "source": [
        "### **Exploratory Data Analysis**"
      ]
    },
    {
      "cell_type": "markdown",
      "source": [
        "####**Gender and Level**\n",
        "There are more male users than female users in the sample data. There are also more paid users."
      ],
      "metadata": {
        "id": "EiR-jFMsuaw9"
      }
    },
    {
      "cell_type": "code",
      "source": [
        "# Group by userId and extract gender and level values\n",
        "gender_data = df.groupby('userId')['gender'].last().value_counts()\n",
        "level_data = df.groupby('userId')['level'].last().value_counts()\n",
        "\n",
        "# Set up the subplot grid\n",
        "fig, axes = plt.subplots(nrows=1, ncols=2, figsize=(10, 4))\n",
        "\n",
        "# Plot count for gender\n",
        "gender_labels = gender_data.index.tolist()\n",
        "sns.barplot(x=gender_labels, y=gender_data.values, ax=axes[0], palette='bright')\n",
        "axes[0].set_xlabel('Gender')\n",
        "axes[0].set_ylabel('Count')\n",
        "axes[0].set_title('Count of Users by Gender')\n",
        "\n",
        "# Plot count for level\n",
        "level_labels = level_data.index.tolist()\n",
        "sns.barplot(x=level_labels, y=level_data.values, ax=axes[1], palette='bright')\n",
        "axes[1].set_xlabel('Level')\n",
        "axes[1].set_ylabel('Count')\n",
        "axes[1].set_title('Count of Users by Level')\n",
        "\n",
        "# Adjust spacing between subplots\n",
        "plt.tight_layout()\n",
        "\n",
        "# Display the plot\n",
        "plt.show()\n"
      ],
      "metadata": {
        "colab": {
          "base_uri": "https://localhost:8080/",
          "height": 407
        },
        "id": "_hpTqH9YwgV3",
        "outputId": "feb2c2d9-7c2c-4eb1-8646-d82bb5a9108f"
      },
      "execution_count": 17,
      "outputs": [
        {
          "output_type": "display_data",
          "data": {
            "text/plain": [
              "<Figure size 1000x400 with 2 Axes>"
            ],
            "image/png": "[encoded data removed]"
          },
          "metadata": {}
        }
      ]
    },
    {
      "cell_type": "markdown",
      "source": [
        "####**Location**"
      ],
      "metadata": {
        "id": "GHTFWvQcuspb"
      }
    },
    {
      "cell_type": "markdown",
      "source": [
        "The top two locations are Los Angeles-Long Beach-Anaheim, CA and New York-Newark-Jersey City, NY-NJ-PA. Most other locations only had 1 user."
      ],
      "metadata": {
        "id": "I7ZP7heztXs5"
      }
    },
    {
      "cell_type": "code",
      "source": [
        "# count for location (top 5)\n",
        "\n",
        "location_counts = df.drop_duplicates(['userId', 'location'])['location'].value_counts().head().reset_index()\n",
        "location_counts.columns = ['location', 'Count']\n",
        "\n",
        "display(pd.DataFrame(location_counts))\n"
      ],
      "metadata": {
        "colab": {
          "base_uri": "https://localhost:8080/",
          "height": 206
        },
        "id": "8ZX7sna3zMz_",
        "outputId": "4f0ca155-936a-483e-ea30-642c0c631afb"
      },
      "execution_count": 18,
      "outputs": [
        {
          "output_type": "display_data",
          "data": {
            "text/plain": [
              "                                location  Count\n",
              "0     Los Angeles-Long Beach-Anaheim, CA     16\n",
              "1  New York-Newark-Jersey City, NY-NJ-PA     15\n",
              "2        Dallas-Fort Worth-Arlington, TX      7\n",
              "3            Phoenix-Mesa-Scottsdale, AZ      7\n",
              "4                       St. Louis, MO-IL      6"
            ],
            "text/html": [
              "\n",
              "  <div id=\"df-69ea4145-605d-4f77-b0cd-9126470be7a9\">\n",
              "    <div class=\"colab-df-container\">\n",
              "      <div>\n",
              "<style scoped>\n",
              "    .dataframe tbody tr th:only-of-type {\n",
              "        vertical-align: middle;\n",
              "    }\n",
              "\n",
              "    .dataframe tbody tr th {\n",
              "        vertical-align: top;\n",
              "    }\n",
              "\n",
              "    .dataframe thead th {\n",
              "        text-align: right;\n",
              "    }\n",
              "</style>\n",
              "<table border=\"1\" class=\"dataframe\">\n",
              "  <thead>\n",
              "    <tr style=\"text-align: right;\">\n",
              "      <th></th>\n",
              "      <th>location</th>\n",
              "      <th>Count</th>\n",
              "    </tr>\n",
              "  </thead>\n",
              "  <tbody>\n",
              "    <tr>\n",
              "      <th>0</th>\n",
              "      <td>Los Angeles-Long Beach-Anaheim, CA</td>\n",
              "      <td>16</td>\n",
              "    </tr>\n",
              "    <tr>\n",
              "      <th>1</th>\n",
              "      <td>New York-Newark-Jersey City, NY-NJ-PA</td>\n",
              "      <td>15</td>\n",
              "    </tr>\n",
              "    <tr>\n",
              "      <th>2</th>\n",
              "      <td>Dallas-Fort Worth-Arlington, TX</td>\n",
              "      <td>7</td>\n",
              "    </tr>\n",
              "    <tr>\n",
              "      <th>3</th>\n",
              "      <td>Phoenix-Mesa-Scottsdale, AZ</td>\n",
              "      <td>7</td>\n",
              "    </tr>\n",
              "    <tr>\n",
              "      <th>4</th>\n",
              "      <td>St. Louis, MO-IL</td>\n",
              "      <td>6</td>\n",
              "    </tr>\n",
              "  </tbody>\n",
              "</table>\n",
              "</div>\n",
              "      <button class=\"colab-df-convert\" onclick=\"convertToInteractive('df-69ea4145-605d-4f77-b0cd-9126470be7a9')\"\n",
              "              title=\"Convert this dataframe to an interactive table.\"\n",
              "              style=\"display:none;\">\n",
              "        \n",
              "  <svg xmlns=\"http://www.w3.org/2000/svg\" height=\"24px\"viewBox=\"0 0 24 24\"\n",
              "       width=\"24px\">\n",
              "    <path d=\"M0 0h24v24H0V0z\" fill=\"none\"/>\n",
              "    <path d=\"M18.56 5.44l.94 2.06.94-2.06 2.06-.94-2.06-.94-.94-2.06-.94 2.06-2.06.94zm-11 1L8.5 8.5l.94-2.06 2.06-.94-2.06-.94L8.5 2.5l-.94 2.06-2.06.94zm10 10l.94 2.06.94-2.06 2.06-.94-2.06-.94-.94-2.06-.94 2.06-2.06.94z\"/><path d=\"M17.41 7.96l-1.37-1.37c-.4-.4-.92-.59-1.43-.59-.52 0-1.04.2-1.43.59L10.3 9.45l-7.72 7.72c-.78.78-.78 2.05 0 2.83L4 21.41c.39.39.9.59 1.41.59.51 0 1.02-.2 1.41-.59l7.78-7.78 2.81-2.81c.8-.78.8-2.07 0-2.86zM5.41 20L4 18.59l7.72-7.72 1.47 1.35L5.41 20z\"/>\n",
              "  </svg>\n",
              "      </button>\n",
              "      \n",
              "  <style>\n",
              "    .colab-df-container {\n",
              "      display:flex;\n",
              "      flex-wrap:wrap;\n",
              "      gap: 12px;\n",
              "    }\n",
              "\n",
              "    .colab-df-convert {\n",
              "      background-color: #E8F0FE;\n",
              "      border: none;\n",
              "      border-radius: 50%;\n",
              "      cursor: pointer;\n",
              "      display: none;\n",
              "      fill: #1967D2;\n",
              "      height: 32px;\n",
              "      padding: 0 0 0 0;\n",
              "      width: 32px;\n",
              "    }\n",
              "\n",
              "    .colab-df-convert:hover {\n",
              "      background-color: #E2EBFA;\n",
              "      box-shadow: 0px 1px 2px rgba(60, 64, 67, 0.3), 0px 1px 3px 1px rgba(60, 64, 67, 0.15);\n",
              "      fill: #174EA6;\n",
              "    }\n",
              "\n",
              "    [theme=dark] .colab-df-convert {\n",
              "      background-color: #3B4455;\n",
              "      fill: #D2E3FC;\n",
              "    }\n",
              "\n",
              "    [theme=dark] .colab-df-convert:hover {\n",
              "      background-color: #434B5C;\n",
              "      box-shadow: 0px 1px 3px 1px rgba(0, 0, 0, 0.15);\n",
              "      filter: drop-shadow(0px 1px 2px rgba(0, 0, 0, 0.3));\n",
              "      fill: #FFFFFF;\n",
              "    }\n",
              "  </style>\n",
              "\n",
              "      <script>\n",
              "        const buttonEl =\n",
              "          document.querySelector('#df-69ea4145-605d-4f77-b0cd-9126470be7a9 button.colab-df-convert');\n",
              "        buttonEl.style.display =\n",
              "          google.colab.kernel.accessAllowed ? 'block' : 'none';\n",
              "\n",
              "        async function convertToInteractive(key) {\n",
              "          const element = document.querySelector('#df-69ea4145-605d-4f77-b0cd-9126470be7a9');\n",
              "          const dataTable =\n",
              "            await google.colab.kernel.invokeFunction('convertToInteractive',\n",
              "                                                     [key], {});\n",
              "          if (!dataTable) return;\n",
              "\n",
              "          const docLinkHtml = 'Like what you see? Visit the ' +\n",
              "            '<a target=\"_blank\" href=https://colab.research.google.com/notebooks/data_table.ipynb>data table notebook</a>'\n",
              "            + ' to learn more about interactive tables.';\n",
              "          element.innerHTML = '';\n",
              "          dataTable['output_type'] = 'display_data';\n",
              "          await google.colab.output.renderOutput(dataTable, element);\n",
              "          const docLink = document.createElement('div');\n",
              "          docLink.innerHTML = docLinkHtml;\n",
              "          element.appendChild(docLink);\n",
              "        }\n",
              "      </script>\n",
              "    </div>\n",
              "  </div>\n",
              "  "
            ]
          },
          "metadata": {}
        }
      ]
    },
    {
      "cell_type": "code",
      "source": [
        "# count for location (bottom 5)\n",
        "\n",
        "location_counts = df.drop_duplicates(['userId', 'location'])['location'].value_counts().tail().reset_index()\n",
        "location_counts.columns = ['location', 'Count']\n",
        "\n",
        "display(pd.DataFrame(location_counts))"
      ],
      "metadata": {
        "colab": {
          "base_uri": "https://localhost:8080/",
          "height": 206
        },
        "id": "u-g19Juetynq",
        "outputId": "b611be4f-922e-45b7-e090-6cdbcf959cee"
      },
      "execution_count": 65,
      "outputs": [
        {
          "output_type": "display_data",
          "data": {
            "text/plain": [
              "                      location  Count\n",
              "0             Jacksonville, FL      1\n",
              "1  Albany-Schenectady-Troy, NY      1\n",
              "2        Manchester-Nashua, NH      1\n",
              "3                  Bozeman, MT      1\n",
              "4                  Roanoke, VA      1"
            ],
            "text/html": [
              "\n",
              "  <div id=\"df-d632bad8-3d27-454f-b0d1-af0e83a26cd8\">\n",
              "    <div class=\"colab-df-container\">\n",
              "      <div>\n",
              "<style scoped>\n",
              "    .dataframe tbody tr th:only-of-type {\n",
              "        vertical-align: middle;\n",
              "    }\n",
              "\n",
              "    .dataframe tbody tr th {\n",
              "        vertical-align: top;\n",
              "    }\n",
              "\n",
              "    .dataframe thead th {\n",
              "        text-align: right;\n",
              "    }\n",
              "</style>\n",
              "<table border=\"1\" class=\"dataframe\">\n",
              "  <thead>\n",
              "    <tr style=\"text-align: right;\">\n",
              "      <th></th>\n",
              "      <th>location</th>\n",
              "      <th>Count</th>\n",
              "    </tr>\n",
              "  </thead>\n",
              "  <tbody>\n",
              "    <tr>\n",
              "      <th>0</th>\n",
              "      <td>Jacksonville, FL</td>\n",
              "      <td>1</td>\n",
              "    </tr>\n",
              "    <tr>\n",
              "      <th>1</th>\n",
              "      <td>Albany-Schenectady-Troy, NY</td>\n",
              "      <td>1</td>\n",
              "    </tr>\n",
              "    <tr>\n",
              "      <th>2</th>\n",
              "      <td>Manchester-Nashua, NH</td>\n",
              "      <td>1</td>\n",
              "    </tr>\n",
              "    <tr>\n",
              "      <th>3</th>\n",
              "      <td>Bozeman, MT</td>\n",
              "      <td>1</td>\n",
              "    </tr>\n",
              "    <tr>\n",
              "      <th>4</th>\n",
              "      <td>Roanoke, VA</td>\n",
              "      <td>1</td>\n",
              "    </tr>\n",
              "  </tbody>\n",
              "</table>\n",
              "</div>\n",
              "      <button class=\"colab-df-convert\" onclick=\"convertToInteractive('df-d632bad8-3d27-454f-b0d1-af0e83a26cd8')\"\n",
              "              title=\"Convert this dataframe to an interactive table.\"\n",
              "              style=\"display:none;\">\n",
              "        \n",
              "  <svg xmlns=\"http://www.w3.org/2000/svg\" height=\"24px\"viewBox=\"0 0 24 24\"\n",
              "       width=\"24px\">\n",
              "    <path d=\"M0 0h24v24H0V0z\" fill=\"none\"/>\n",
              "    <path d=\"M18.56 5.44l.94 2.06.94-2.06 2.06-.94-2.06-.94-.94-2.06-.94 2.06-2.06.94zm-11 1L8.5 8.5l.94-2.06 2.06-.94-2.06-.94L8.5 2.5l-.94 2.06-2.06.94zm10 10l.94 2.06.94-2.06 2.06-.94-2.06-.94-.94-2.06-.94 2.06-2.06.94z\"/><path d=\"M17.41 7.96l-1.37-1.37c-.4-.4-.92-.59-1.43-.59-.52 0-1.04.2-1.43.59L10.3 9.45l-7.72 7.72c-.78.78-.78 2.05 0 2.83L4 21.41c.39.39.9.59 1.41.59.51 0 1.02-.2 1.41-.59l7.78-7.78 2.81-2.81c.8-.78.8-2.07 0-2.86zM5.41 20L4 18.59l7.72-7.72 1.47 1.35L5.41 20z\"/>\n",
              "  </svg>\n",
              "      </button>\n",
              "      \n",
              "  <style>\n",
              "    .colab-df-container {\n",
              "      display:flex;\n",
              "      flex-wrap:wrap;\n",
              "      gap: 12px;\n",
              "    }\n",
              "\n",
              "    .colab-df-convert {\n",
              "      background-color: #E8F0FE;\n",
              "      border: none;\n",
              "      border-radius: 50%;\n",
              "      cursor: pointer;\n",
              "      display: none;\n",
              "      fill: #1967D2;\n",
              "      height: 32px;\n",
              "      padding: 0 0 0 0;\n",
              "      width: 32px;\n",
              "    }\n",
              "\n",
              "    .colab-df-convert:hover {\n",
              "      background-color: #E2EBFA;\n",
              "      box-shadow: 0px 1px 2px rgba(60, 64, 67, 0.3), 0px 1px 3px 1px rgba(60, 64, 67, 0.15);\n",
              "      fill: #174EA6;\n",
              "    }\n",
              "\n",
              "    [theme=dark] .colab-df-convert {\n",
              "      background-color: #3B4455;\n",
              "      fill: #D2E3FC;\n",
              "    }\n",
              "\n",
              "    [theme=dark] .colab-df-convert:hover {\n",
              "      background-color: #434B5C;\n",
              "      box-shadow: 0px 1px 3px 1px rgba(0, 0, 0, 0.15);\n",
              "      filter: drop-shadow(0px 1px 2px rgba(0, 0, 0, 0.3));\n",
              "      fill: #FFFFFF;\n",
              "    }\n",
              "  </style>\n",
              "\n",
              "      <script>\n",
              "        const buttonEl =\n",
              "          document.querySelector('#df-d632bad8-3d27-454f-b0d1-af0e83a26cd8 button.colab-df-convert');\n",
              "        buttonEl.style.display =\n",
              "          google.colab.kernel.accessAllowed ? 'block' : 'none';\n",
              "\n",
              "        async function convertToInteractive(key) {\n",
              "          const element = document.querySelector('#df-d632bad8-3d27-454f-b0d1-af0e83a26cd8');\n",
              "          const dataTable =\n",
              "            await google.colab.kernel.invokeFunction('convertToInteractive',\n",
              "                                                     [key], {});\n",
              "          if (!dataTable) return;\n",
              "\n",
              "          const docLinkHtml = 'Like what you see? Visit the ' +\n",
              "            '<a target=\"_blank\" href=https://colab.research.google.com/notebooks/data_table.ipynb>data table notebook</a>'\n",
              "            + ' to learn more about interactive tables.';\n",
              "          element.innerHTML = '';\n",
              "          dataTable['output_type'] = 'display_data';\n",
              "          await google.colab.output.renderOutput(dataTable, element);\n",
              "          const docLink = document.createElement('div');\n",
              "          docLink.innerHTML = docLinkHtml;\n",
              "          element.appendChild(docLink);\n",
              "        }\n",
              "      </script>\n",
              "    </div>\n",
              "  </div>\n",
              "  "
            ]
          },
          "metadata": {}
        }
      ]
    },
    {
      "cell_type": "code",
      "source": [
        "df['location'] = df['location'].str.split(',').str[-1].str.strip()\n",
        "df.head()"
      ],
      "metadata": {
        "colab": {
          "base_uri": "https://localhost:8080/",
          "height": 386
        },
        "id": "Xu8TN9kh9M0N",
        "outputId": "2c3e15ac-406e-4582-d39f-4570490095bd"
      },
      "execution_count": 78,
      "outputs": [
        {
          "output_type": "execute_result",
          "data": {
            "text/plain": [
              "              ts userId  sessionId      page       auth method  status level  \\\n",
              "0  1538352117000     30         29  NextSong  Logged In    PUT     200  paid   \n",
              "1  1538352180000      9          8  NextSong  Logged In    PUT     200  free   \n",
              "2  1538352394000     30         29  NextSong  Logged In    PUT     200  paid   \n",
              "3  1538352416000      9          8  NextSong  Logged In    PUT     200  free   \n",
              "4  1538352676000     30         29  NextSong  Logged In    PUT     200  paid   \n",
              "\n",
              "   itemInSession location  ... lastName firstName  registration  gender  \\\n",
              "0             50       CA  ...  Freeman     Colin  1.538173e+12       M   \n",
              "1             79    MA-NH  ...     Long     Micah  1.538332e+12       M   \n",
              "2             51       CA  ...  Freeman     Colin  1.538173e+12       M   \n",
              "3             80    MA-NH  ...     Long     Micah  1.538332e+12       M   \n",
              "4             52       CA  ...  Freeman     Colin  1.538173e+12       M   \n",
              "\n",
              "  songs_per_session         formatted_ts churn       date    month     day  \n",
              "0                36  2018-10-01 00:01:57     0 2018-10-01  October  Monday  \n",
              "1                33  2018-10-01 00:03:00     0 2018-10-01  October  Monday  \n",
              "2                36  2018-10-01 00:06:34     0 2018-10-01  October  Monday  \n",
              "3                33  2018-10-01 00:06:56     0 2018-10-01  October  Monday  \n",
              "4                36  2018-10-01 00:11:16     0 2018-10-01  October  Monday  \n",
              "\n",
              "[5 rows x 21 columns]"
            ],
            "text/html": [
              "\n",
              "  <div id=\"df-5c786191-9289-4815-9a24-5d489d65bcc3\">\n",
              "    <div class=\"colab-df-container\">\n",
              "      <div>\n",
              "<style scoped>\n",
              "    .dataframe tbody tr th:only-of-type {\n",
              "        vertical-align: middle;\n",
              "    }\n",
              "\n",
              "    .dataframe tbody tr th {\n",
              "        vertical-align: top;\n",
              "    }\n",
              "\n",
              "    .dataframe thead th {\n",
              "        text-align: right;\n",
              "    }\n",
              "</style>\n",
              "<table border=\"1\" class=\"dataframe\">\n",
              "  <thead>\n",
              "    <tr style=\"text-align: right;\">\n",
              "      <th></th>\n",
              "      <th>ts</th>\n",
              "      <th>userId</th>\n",
              "      <th>sessionId</th>\n",
              "      <th>page</th>\n",
              "      <th>auth</th>\n",
              "      <th>method</th>\n",
              "      <th>status</th>\n",
              "      <th>level</th>\n",
              "      <th>itemInSession</th>\n",
              "      <th>location</th>\n",
              "      <th>...</th>\n",
              "      <th>lastName</th>\n",
              "      <th>firstName</th>\n",
              "      <th>registration</th>\n",
              "      <th>gender</th>\n",
              "      <th>songs_per_session</th>\n",
              "      <th>formatted_ts</th>\n",
              "      <th>churn</th>\n",
              "      <th>date</th>\n",
              "      <th>month</th>\n",
              "      <th>day</th>\n",
              "    </tr>\n",
              "  </thead>\n",
              "  <tbody>\n",
              "    <tr>\n",
              "      <th>0</th>\n",
              "      <td>1538352117000</td>\n",
              "      <td>30</td>\n",
              "      <td>29</td>\n",
              "      <td>NextSong</td>\n",
              "      <td>Logged In</td>\n",
              "      <td>PUT</td>\n",
              "      <td>200</td>\n",
              "      <td>paid</td>\n",
              "      <td>50</td>\n",
              "      <td>CA</td>\n",
              "      <td>...</td>\n",
              "      <td>Freeman</td>\n",
              "      <td>Colin</td>\n",
              "      <td>1.538173e+12</td>\n",
              "      <td>M</td>\n",
              "      <td>36</td>\n",
              "      <td>2018-10-01 00:01:57</td>\n",
              "      <td>0</td>\n",
              "      <td>2018-10-01</td>\n",
              "      <td>October</td>\n",
              "      <td>Monday</td>\n",
              "    </tr>\n",
              "    <tr>\n",
              "      <th>1</th>\n",
              "      <td>1538352180000</td>\n",
              "      <td>9</td>\n",
              "      <td>8</td>\n",
              "      <td>NextSong</td>\n",
              "      <td>Logged In</td>\n",
              "      <td>PUT</td>\n",
              "      <td>200</td>\n",
              "      <td>free</td>\n",
              "      <td>79</td>\n",
              "      <td>MA-NH</td>\n",
              "      <td>...</td>\n",
              "      <td>Long</td>\n",
              "      <td>Micah</td>\n",
              "      <td>1.538332e+12</td>\n",
              "      <td>M</td>\n",
              "      <td>33</td>\n",
              "      <td>2018-10-01 00:03:00</td>\n",
              "      <td>0</td>\n",
              "      <td>2018-10-01</td>\n",
              "      <td>October</td>\n",
              "      <td>Monday</td>\n",
              "    </tr>\n",
              "    <tr>\n",
              "      <th>2</th>\n",
              "      <td>1538352394000</td>\n",
              "      <td>30</td>\n",
              "      <td>29</td>\n",
              "      <td>NextSong</td>\n",
              "      <td>Logged In</td>\n",
              "      <td>PUT</td>\n",
              "      <td>200</td>\n",
              "      <td>paid</td>\n",
              "      <td>51</td>\n",
              "      <td>CA</td>\n",
              "      <td>...</td>\n",
              "      <td>Freeman</td>\n",
              "      <td>Colin</td>\n",
              "      <td>1.538173e+12</td>\n",
              "      <td>M</td>\n",
              "      <td>36</td>\n",
              "      <td>2018-10-01 00:06:34</td>\n",
              "      <td>0</td>\n",
              "      <td>2018-10-01</td>\n",
              "      <td>October</td>\n",
              "      <td>Monday</td>\n",
              "    </tr>\n",
              "    <tr>\n",
              "      <th>3</th>\n",
              "      <td>1538352416000</td>\n",
              "      <td>9</td>\n",
              "      <td>8</td>\n",
              "      <td>NextSong</td>\n",
              "      <td>Logged In</td>\n",
              "      <td>PUT</td>\n",
              "      <td>200</td>\n",
              "      <td>free</td>\n",
              "      <td>80</td>\n",
              "      <td>MA-NH</td>\n",
              "      <td>...</td>\n",
              "      <td>Long</td>\n",
              "      <td>Micah</td>\n",
              "      <td>1.538332e+12</td>\n",
              "      <td>M</td>\n",
              "      <td>33</td>\n",
              "      <td>2018-10-01 00:06:56</td>\n",
              "      <td>0</td>\n",
              "      <td>2018-10-01</td>\n",
              "      <td>October</td>\n",
              "      <td>Monday</td>\n",
              "    </tr>\n",
              "    <tr>\n",
              "      <th>4</th>\n",
              "      <td>1538352676000</td>\n",
              "      <td>30</td>\n",
              "      <td>29</td>\n",
              "      <td>NextSong</td>\n",
              "      <td>Logged In</td>\n",
              "      <td>PUT</td>\n",
              "      <td>200</td>\n",
              "      <td>paid</td>\n",
              "      <td>52</td>\n",
              "      <td>CA</td>\n",
              "      <td>...</td>\n",
              "      <td>Freeman</td>\n",
              "      <td>Colin</td>\n",
              "      <td>1.538173e+12</td>\n",
              "      <td>M</td>\n",
              "      <td>36</td>\n",
              "      <td>2018-10-01 00:11:16</td>\n",
              "      <td>0</td>\n",
              "      <td>2018-10-01</td>\n",
              "      <td>October</td>\n",
              "      <td>Monday</td>\n",
              "    </tr>\n",
              "  </tbody>\n",
              "</table>\n",
              "<p>5 rows × 21 columns</p>\n",
              "</div>\n",
              "      <button class=\"colab-df-convert\" onclick=\"convertToInteractive('df-5c786191-9289-4815-9a24-5d489d65bcc3')\"\n",
              "              title=\"Convert this dataframe to an interactive table.\"\n",
              "              style=\"display:none;\">\n",
              "        \n",
              "  <svg xmlns=\"http://www.w3.org/2000/svg\" height=\"24px\"viewBox=\"0 0 24 24\"\n",
              "       width=\"24px\">\n",
              "    <path d=\"M0 0h24v24H0V0z\" fill=\"none\"/>\n",
              "    <path d=\"M18.56 5.44l.94 2.06.94-2.06 2.06-.94-2.06-.94-.94-2.06-.94 2.06-2.06.94zm-11 1L8.5 8.5l.94-2.06 2.06-.94-2.06-.94L8.5 2.5l-.94 2.06-2.06.94zm10 10l.94 2.06.94-2.06 2.06-.94-2.06-.94-.94-2.06-.94 2.06-2.06.94z\"/><path d=\"M17.41 7.96l-1.37-1.37c-.4-.4-.92-.59-1.43-.59-.52 0-1.04.2-1.43.59L10.3 9.45l-7.72 7.72c-.78.78-.78 2.05 0 2.83L4 21.41c.39.39.9.59 1.41.59.51 0 1.02-.2 1.41-.59l7.78-7.78 2.81-2.81c.8-.78.8-2.07 0-2.86zM5.41 20L4 18.59l7.72-7.72 1.47 1.35L5.41 20z\"/>\n",
              "  </svg>\n",
              "      </button>\n",
              "      \n",
              "  <style>\n",
              "    .colab-df-container {\n",
              "      display:flex;\n",
              "      flex-wrap:wrap;\n",
              "      gap: 12px;\n",
              "    }\n",
              "\n",
              "    .colab-df-convert {\n",
              "      background-color: #E8F0FE;\n",
              "      border: none;\n",
              "      border-radius: 50%;\n",
              "      cursor: pointer;\n",
              "      display: none;\n",
              "      fill: #1967D2;\n",
              "      height: 32px;\n",
              "      padding: 0 0 0 0;\n",
              "      width: 32px;\n",
              "    }\n",
              "\n",
              "    .colab-df-convert:hover {\n",
              "      background-color: #E2EBFA;\n",
              "      box-shadow: 0px 1px 2px rgba(60, 64, 67, 0.3), 0px 1px 3px 1px rgba(60, 64, 67, 0.15);\n",
              "      fill: #174EA6;\n",
              "    }\n",
              "\n",
              "    [theme=dark] .colab-df-convert {\n",
              "      background-color: #3B4455;\n",
              "      fill: #D2E3FC;\n",
              "    }\n",
              "\n",
              "    [theme=dark] .colab-df-convert:hover {\n",
              "      background-color: #434B5C;\n",
              "      box-shadow: 0px 1px 3px 1px rgba(0, 0, 0, 0.15);\n",
              "      filter: drop-shadow(0px 1px 2px rgba(0, 0, 0, 0.3));\n",
              "      fill: #FFFFFF;\n",
              "    }\n",
              "  </style>\n",
              "\n",
              "      <script>\n",
              "        const buttonEl =\n",
              "          document.querySelector('#df-5c786191-9289-4815-9a24-5d489d65bcc3 button.colab-df-convert');\n",
              "        buttonEl.style.display =\n",
              "          google.colab.kernel.accessAllowed ? 'block' : 'none';\n",
              "\n",
              "        async function convertToInteractive(key) {\n",
              "          const element = document.querySelector('#df-5c786191-9289-4815-9a24-5d489d65bcc3');\n",
              "          const dataTable =\n",
              "            await google.colab.kernel.invokeFunction('convertToInteractive',\n",
              "                                                     [key], {});\n",
              "          if (!dataTable) return;\n",
              "\n",
              "          const docLinkHtml = 'Like what you see? Visit the ' +\n",
              "            '<a target=\"_blank\" href=https://colab.research.google.com/notebooks/data_table.ipynb>data table notebook</a>'\n",
              "            + ' to learn more about interactive tables.';\n",
              "          element.innerHTML = '';\n",
              "          dataTable['output_type'] = 'display_data';\n",
              "          await google.colab.output.renderOutput(dataTable, element);\n",
              "          const docLink = document.createElement('div');\n",
              "          docLink.innerHTML = docLinkHtml;\n",
              "          element.appendChild(docLink);\n",
              "        }\n",
              "      </script>\n",
              "    </div>\n",
              "  </div>\n",
              "  "
            ]
          },
          "metadata": {},
          "execution_count": 78
        }
      ]
    },
    {
      "cell_type": "markdown",
      "source": [
        "####**Page**"
      ],
      "metadata": {
        "id": "nv7A2IU3vETE"
      }
    },
    {
      "cell_type": "markdown",
      "source": [
        "Next song is the page with the most occurrences which makes sense since the app is a music streaming app. Thumbs up has the next highest count. Error pages are rare. Upgrades/Downgrades and cancellation pages are the least visited pages."
      ],
      "metadata": {
        "id": "w2iTJKfqnfGM"
      }
    },
    {
      "cell_type": "code",
      "execution_count": 19,
      "metadata": {
        "colab": {
          "base_uri": "https://localhost:8080/"
        },
        "id": "I4uI8EunAfne",
        "outputId": "3d276e7a-5586-4698-b2ef-3fcdbac6fb86"
      },
      "outputs": [
        {
          "output_type": "execute_result",
          "data": {
            "text/plain": [
              "['NextSong',\n",
              " 'Add to Playlist',\n",
              " 'Roll Advert',\n",
              " 'Thumbs Up',\n",
              " 'Downgrade',\n",
              " 'Thumbs Down',\n",
              " 'Home',\n",
              " 'Logout',\n",
              " 'Help',\n",
              " 'Upgrade',\n",
              " 'Add Friend',\n",
              " 'Settings',\n",
              " 'Submit Upgrade',\n",
              " 'About',\n",
              " 'Submit Downgrade',\n",
              " 'Error',\n",
              " 'Save Settings',\n",
              " 'Cancel',\n",
              " 'Cancellation Confirmation']"
            ]
          },
          "metadata": {},
          "execution_count": 19
        }
      ],
      "source": [
        "# get a list of unique values in page column\n",
        "\n",
        "df['page'].unique().tolist()"
      ]
    },
    {
      "cell_type": "code",
      "source": [
        "# Top 5 page occurrences including 'NextSong'\n",
        "page_counts = df[\"page\"].value_counts().reset_index()\n",
        "\n",
        "# Filter out 'NextSong' if it exists\n",
        "top_pages = page_counts.head(5)\n",
        "\n",
        "plt.rcParams['figure.figsize'] = (10, 1)\n",
        "sns.barplot(x=\"page\", y=\"index\", data=top_pages, palette=\"bright\")\n",
        "plt.xlabel('Count')\n",
        "plt.ylabel('Page')\n",
        "plt.title('Top 5 Page Counts (Including NextSong)')\n",
        "plt.show()"
      ],
      "metadata": {
        "colab": {
          "base_uri": "https://localhost:8080/",
          "height": 179
        },
        "id": "YDN_U2mmpoQ8",
        "outputId": "4d0a29a1-9c7c-431f-f394-65a4e2fb519d"
      },
      "execution_count": 20,
      "outputs": [
        {
          "output_type": "display_data",
          "data": {
            "text/plain": [
              "<Figure size 1000x100 with 1 Axes>"
            ],
            "image/png": "[encoded data removed]"
          },
          "metadata": {}
        }
      ]
    },
    {
      "cell_type": "code",
      "source": [
        "# Exclude 'NextSong' from count\n",
        "page_counts = df[df[\"page\"] != \"NextSong\"][\"page\"].value_counts().reset_index()\n",
        "\n",
        "plt.rcParams['figure.figsize'] = (8, 6)\n",
        "sns.barplot(x=\"page\", y=\"index\", data=page_counts, palette=\"bright\")\n",
        "plt.xlabel('Count')\n",
        "plt.ylabel('Page')\n",
        "plt.title('Count per page type (Excluding NextSong)')\n",
        "plt.show()"
      ],
      "metadata": {
        "id": "et1p2i8CRGBf",
        "colab": {
          "base_uri": "https://localhost:8080/",
          "height": 564
        },
        "outputId": "6d17c64b-2613-4afb-b62f-eaabd3dbc399"
      },
      "execution_count": 21,
      "outputs": [
        {
          "output_type": "display_data",
          "data": {
            "text/plain": [
              "<Figure size 800x600 with 1 Axes>"
            ],
            "image/png": "[encoded data removed]"
          },
          "metadata": {}
        }
      ]
    },
    {
      "cell_type": "markdown",
      "source": [
        "#### **auth column**\n",
        "\n",
        "After cleaning up, there's two user authentication statuses in the dataset: \"Logged in\" and \"Cancelled\""
      ],
      "metadata": {
        "id": "l4vueS26v8XI"
      }
    },
    {
      "cell_type": "code",
      "source": [
        "#auth_counts = df[\"auth\"].value_counts().reset_index()\n",
        "auth_counts = df['auth'].value_counts().reset_index()\n",
        "auth_counts.columns = [\"auth\", \"Count\"]\n",
        "\n",
        "display(pd.DataFrame(auth_counts))\n"
      ],
      "metadata": {
        "colab": {
          "base_uri": "https://localhost:8080/",
          "height": 112
        },
        "id": "sCZ47rSmYvG_",
        "outputId": "60216715-0365-4caa-e489-dc4668c06ad5"
      },
      "execution_count": 67,
      "outputs": [
        {
          "output_type": "display_data",
          "data": {
            "text/plain": [
              "        auth   Count\n",
              "0  Logged In  278102\n",
              "1  Cancelled      52"
            ],
            "text/html": [
              "\n",
              "  <div id=\"df-0bff8fa5-b4f3-4973-b165-97c9040b41cc\">\n",
              "    <div class=\"colab-df-container\">\n",
              "      <div>\n",
              "<style scoped>\n",
              "    .dataframe tbody tr th:only-of-type {\n",
              "        vertical-align: middle;\n",
              "    }\n",
              "\n",
              "    .dataframe tbody tr th {\n",
              "        vertical-align: top;\n",
              "    }\n",
              "\n",
              "    .dataframe thead th {\n",
              "        text-align: right;\n",
              "    }\n",
              "</style>\n",
              "<table border=\"1\" class=\"dataframe\">\n",
              "  <thead>\n",
              "    <tr style=\"text-align: right;\">\n",
              "      <th></th>\n",
              "      <th>auth</th>\n",
              "      <th>Count</th>\n",
              "    </tr>\n",
              "  </thead>\n",
              "  <tbody>\n",
              "    <tr>\n",
              "      <th>0</th>\n",
              "      <td>Logged In</td>\n",
              "      <td>278102</td>\n",
              "    </tr>\n",
              "    <tr>\n",
              "      <th>1</th>\n",
              "      <td>Cancelled</td>\n",
              "      <td>52</td>\n",
              "    </tr>\n",
              "  </tbody>\n",
              "</table>\n",
              "</div>\n",
              "      <button class=\"colab-df-convert\" onclick=\"convertToInteractive('df-0bff8fa5-b4f3-4973-b165-97c9040b41cc')\"\n",
              "              title=\"Convert this dataframe to an interactive table.\"\n",
              "              style=\"display:none;\">\n",
              "        \n",
              "  <svg xmlns=\"http://www.w3.org/2000/svg\" height=\"24px\"viewBox=\"0 0 24 24\"\n",
              "       width=\"24px\">\n",
              "    <path d=\"M0 0h24v24H0V0z\" fill=\"none\"/>\n",
              "    <path d=\"M18.56 5.44l.94 2.06.94-2.06 2.06-.94-2.06-.94-.94-2.06-.94 2.06-2.06.94zm-11 1L8.5 8.5l.94-2.06 2.06-.94-2.06-.94L8.5 2.5l-.94 2.06-2.06.94zm10 10l.94 2.06.94-2.06 2.06-.94-2.06-.94-.94-2.06-.94 2.06-2.06.94z\"/><path d=\"M17.41 7.96l-1.37-1.37c-.4-.4-.92-.59-1.43-.59-.52 0-1.04.2-1.43.59L10.3 9.45l-7.72 7.72c-.78.78-.78 2.05 0 2.83L4 21.41c.39.39.9.59 1.41.59.51 0 1.02-.2 1.41-.59l7.78-7.78 2.81-2.81c.8-.78.8-2.07 0-2.86zM5.41 20L4 18.59l7.72-7.72 1.47 1.35L5.41 20z\"/>\n",
              "  </svg>\n",
              "      </button>\n",
              "      \n",
              "  <style>\n",
              "    .colab-df-container {\n",
              "      display:flex;\n",
              "      flex-wrap:wrap;\n",
              "      gap: 12px;\n",
              "    }\n",
              "\n",
              "    .colab-df-convert {\n",
              "      background-color: #E8F0FE;\n",
              "      border: none;\n",
              "      border-radius: 50%;\n",
              "      cursor: pointer;\n",
              "      display: none;\n",
              "      fill: #1967D2;\n",
              "      height: 32px;\n",
              "      padding: 0 0 0 0;\n",
              "      width: 32px;\n",
              "    }\n",
              "\n",
              "    .colab-df-convert:hover {\n",
              "      background-color: #E2EBFA;\n",
              "      box-shadow: 0px 1px 2px rgba(60, 64, 67, 0.3), 0px 1px 3px 1px rgba(60, 64, 67, 0.15);\n",
              "      fill: #174EA6;\n",
              "    }\n",
              "\n",
              "    [theme=dark] .colab-df-convert {\n",
              "      background-color: #3B4455;\n",
              "      fill: #D2E3FC;\n",
              "    }\n",
              "\n",
              "    [theme=dark] .colab-df-convert:hover {\n",
              "      background-color: #434B5C;\n",
              "      box-shadow: 0px 1px 3px 1px rgba(0, 0, 0, 0.15);\n",
              "      filter: drop-shadow(0px 1px 2px rgba(0, 0, 0, 0.3));\n",
              "      fill: #FFFFFF;\n",
              "    }\n",
              "  </style>\n",
              "\n",
              "      <script>\n",
              "        const buttonEl =\n",
              "          document.querySelector('#df-0bff8fa5-b4f3-4973-b165-97c9040b41cc button.colab-df-convert');\n",
              "        buttonEl.style.display =\n",
              "          google.colab.kernel.accessAllowed ? 'block' : 'none';\n",
              "\n",
              "        async function convertToInteractive(key) {\n",
              "          const element = document.querySelector('#df-0bff8fa5-b4f3-4973-b165-97c9040b41cc');\n",
              "          const dataTable =\n",
              "            await google.colab.kernel.invokeFunction('convertToInteractive',\n",
              "                                                     [key], {});\n",
              "          if (!dataTable) return;\n",
              "\n",
              "          const docLinkHtml = 'Like what you see? Visit the ' +\n",
              "            '<a target=\"_blank\" href=https://colab.research.google.com/notebooks/data_table.ipynb>data table notebook</a>'\n",
              "            + ' to learn more about interactive tables.';\n",
              "          element.innerHTML = '';\n",
              "          dataTable['output_type'] = 'display_data';\n",
              "          await google.colab.output.renderOutput(dataTable, element);\n",
              "          const docLink = document.createElement('div');\n",
              "          docLink.innerHTML = docLinkHtml;\n",
              "          element.appendChild(docLink);\n",
              "        }\n",
              "      </script>\n",
              "    </div>\n",
              "  </div>\n",
              "  "
            ]
          },
          "metadata": {}
        }
      ]
    },
    {
      "cell_type": "markdown",
      "source": [
        "##**Analyzing features against churn**"
      ],
      "metadata": {
        "id": "rMabyvInwtLQ"
      }
    },
    {
      "cell_type": "markdown",
      "source": [
        "######**Churn**\n",
        "Our sample data has a churn rate of 23.11%"
      ],
      "metadata": {
        "id": "r989p9-9obTA"
      }
    },
    {
      "cell_type": "code",
      "execution_count": 23,
      "metadata": {
        "id": "06snBjIc7Cfp"
      },
      "outputs": [],
      "source": [
        "# creating our target column. If page column = 'Cancellation Confirmation' then the customer has cancelled subscription\n",
        "\n",
        "df['churn'] = np.where(df['page'] == 'Cancellation Confirmation', 1, 0) #1- Customer Churns 0- Customer doesn’t churn\n"
      ]
    },
    {
      "cell_type": "code",
      "execution_count": 28,
      "metadata": {
        "id": "k8QjO8Sa9X6j"
      },
      "outputs": [],
      "source": [
        "# function to calculate churn rate\n",
        "\n",
        "def calculate_churn_rate(df):\n",
        "    churned_users = df[df['churn'] == 1]['userId'].nunique()\n",
        "    total_users = df['userId'].nunique()\n",
        "    churn_rate = churned_users / total_users * 100\n",
        "    \n",
        "    return f\"{churned_users} people churned out of {total_users}. The churn rate is {churn_rate:.2f}%.\""
      ]
    },
    {
      "cell_type": "code",
      "execution_count": 29,
      "metadata": {
        "colab": {
          "base_uri": "https://localhost:8080/"
        },
        "id": "emzaz4XYh4dC",
        "outputId": "43747e1a-93aa-4528-ec96-bb73d3ca942a"
      },
      "outputs": [
        {
          "output_type": "stream",
          "name": "stdout",
          "text": [
            "52 people churned out of 225. The churn rate is 23.11%.\n"
          ]
        }
      ],
      "source": [
        "result = calculate_churn_rate(df)\n",
        "print(result)"
      ]
    },
    {
      "cell_type": "markdown",
      "source": [
        "#####**Churn by Gender and Location**\n",
        "\n",
        "During this period, men churned more than women and paid users churned more than people using the app for free. However there are more men using the app and more paid than free users in the sample data."
      ],
      "metadata": {
        "id": "-Dyg-BE1m0da"
      }
    },
    {
      "cell_type": "code",
      "source": [
        "def plot_churn_count(data):\n",
        "    feature_column = input(\"Enter the feature column name to visualize churn count: \")\n",
        "    if feature_column not in data.columns:\n",
        "        print(\"Specified feature column does not exist in the DataFrame.\")\n",
        "        return\n",
        "    \n",
        "    churned_data = data[data['churn'] == 1]  # Filter only churned users\n",
        "    \n",
        "    plt.rcParams['figure.figsize'] = (10, 1)\n",
        "    sns.countplot(y=feature_column, data=churned_data, palette='bright', orient='h')\n",
        "    plt.xlabel('Count')\n",
        "    plt.ylabel(feature_column)\n",
        "    plt.title('Churn Count by {}'.format(feature_column))\n",
        "    plt.show()\n"
      ],
      "metadata": {
        "id": "JxRXbKsF3pjI"
      },
      "execution_count": 84,
      "outputs": []
    },
    {
      "cell_type": "code",
      "source": [
        "# Churn by gender\n",
        "\n",
        "plot_churn_count(df)"
      ],
      "metadata": {
        "colab": {
          "base_uri": "https://localhost:8080/",
          "height": 205
        },
        "id": "93YVObIe3r3E",
        "outputId": "7bcf0e58-a118-46b3-b605-cc2d1890c2fd"
      },
      "execution_count": 31,
      "outputs": [
        {
          "name": "stdout",
          "output_type": "stream",
          "text": [
            "Enter the feature column name to visualize churn count: gender\n"
          ]
        },
        {
          "output_type": "display_data",
          "data": {
            "text/plain": [
              "<Figure size 1000x100 with 1 Axes>"
            ],
            "image/png": "[encoded data removed]"
          },
          "metadata": {}
        }
      ]
    },
    {
      "cell_type": "code",
      "execution_count": 85,
      "metadata": {
        "id": "EJ1R-DLxmu4S",
        "colab": {
          "base_uri": "https://localhost:8080/",
          "height": 205
        },
        "outputId": "8f1ff0e7-a4dc-4adb-b9d3-4afc9a42d234"
      },
      "outputs": [
        {
          "name": "stdout",
          "output_type": "stream",
          "text": [
            "Enter the feature column name to visualize churn count: level\n"
          ]
        },
        {
          "output_type": "display_data",
          "data": {
            "text/plain": [
              "<Figure size 1000x100 with 1 Axes>"
            ],
            "image/png": "[encoded data removed]"
          },
          "metadata": {}
        }
      ],
      "source": [
        "# churn by level\n",
        "\n",
        "plot_churn_count(df)"
      ]
    },
    {
      "cell_type": "markdown",
      "source": [
        "#####**Churn by Location**\n",
        "\n",
        "NY-NJ-PA and CA had the highest churn count. With 5 and 6 people churning, respectively. These are also the locations with the overall highest counts in our dataset."
      ],
      "metadata": {
        "id": "z4ZKBbIh-SOz"
      }
    },
    {
      "cell_type": "markdown",
      "source": [
        "The New York city and Los Angeles areas had the most people churn during this period."
      ],
      "metadata": {
        "id": "OsK2XPGNozOV"
      }
    },
    {
      "cell_type": "code",
      "source": [
        "# churn by location\n",
        "def churn_by_location(data):\n",
        "    feature_column = input(\"Enter the feature column name to visualize churn count: \")\n",
        "    if feature_column not in data.columns:\n",
        "        print(\"Specified feature column does not exist in the DataFrame.\")\n",
        "        return\n",
        "    \n",
        "    churned_data = data[data['churn'] == 1]  # Filter only churned users\n",
        "    \n",
        "    plt.rcParams['figure.figsize'] = (10, 5)\n",
        "    sns.countplot(y=feature_column, data=churned_data, palette='bright', orient='h')\n",
        "    plt.xlabel('Count')\n",
        "    plt.ylabel(feature_column)\n",
        "    plt.title('Churn Count by {}'.format(feature_column))\n",
        "    plt.show()\n",
        "\n",
        "churn_by_location(df)"
      ],
      "metadata": {
        "colab": {
          "base_uri": "https://localhost:8080/",
          "height": 513
        },
        "id": "sMosCKsE9TyT",
        "outputId": "99acebc8-e39c-4058-d498-21b9c4e66d40"
      },
      "execution_count": 86,
      "outputs": [
        {
          "name": "stdout",
          "output_type": "stream",
          "text": [
            "Enter the feature column name to visualize churn count: location\n"
          ]
        },
        {
          "output_type": "display_data",
          "data": {
            "text/plain": [
              "<Figure size 1000x500 with 1 Axes>"
            ],
            "image/png": "[encoded data removed]"
          },
          "metadata": {}
        }
      ]
    },
    {
      "cell_type": "code",
      "execution_count": 34,
      "metadata": {
        "id": "4Wsu4APhnEMv",
        "colab": {
          "base_uri": "https://localhost:8080/",
          "height": 206
        },
        "outputId": "771493ff-eff5-4dd2-e8aa-acac414ce450"
      },
      "outputs": [
        {
          "output_type": "execute_result",
          "data": {
            "text/plain": [
              "                                      location  churn_users\n",
              "0        New York-Newark-Jersey City, NY-NJ-PA            5\n",
              "1           Los Angeles-Long Beach-Anaheim, CA            3\n",
              "2  Philadelphia-Camden-Wilmington, PA-NJ-DE-MD            2\n",
              "3                                    Flint, MI            2\n",
              "4    Miami-Fort Lauderdale-West Palm Beach, FL            2"
            ],
            "text/html": [
              "\n",
              "  <div id=\"df-aaa9b549-e8b2-4374-96e3-bc225245ea15\">\n",
              "    <div class=\"colab-df-container\">\n",
              "      <div>\n",
              "<style scoped>\n",
              "    .dataframe tbody tr th:only-of-type {\n",
              "        vertical-align: middle;\n",
              "    }\n",
              "\n",
              "    .dataframe tbody tr th {\n",
              "        vertical-align: top;\n",
              "    }\n",
              "\n",
              "    .dataframe thead th {\n",
              "        text-align: right;\n",
              "    }\n",
              "</style>\n",
              "<table border=\"1\" class=\"dataframe\">\n",
              "  <thead>\n",
              "    <tr style=\"text-align: right;\">\n",
              "      <th></th>\n",
              "      <th>location</th>\n",
              "      <th>churn_users</th>\n",
              "    </tr>\n",
              "  </thead>\n",
              "  <tbody>\n",
              "    <tr>\n",
              "      <th>0</th>\n",
              "      <td>New York-Newark-Jersey City, NY-NJ-PA</td>\n",
              "      <td>5</td>\n",
              "    </tr>\n",
              "    <tr>\n",
              "      <th>1</th>\n",
              "      <td>Los Angeles-Long Beach-Anaheim, CA</td>\n",
              "      <td>3</td>\n",
              "    </tr>\n",
              "    <tr>\n",
              "      <th>2</th>\n",
              "      <td>Philadelphia-Camden-Wilmington, PA-NJ-DE-MD</td>\n",
              "      <td>2</td>\n",
              "    </tr>\n",
              "    <tr>\n",
              "      <th>3</th>\n",
              "      <td>Flint, MI</td>\n",
              "      <td>2</td>\n",
              "    </tr>\n",
              "    <tr>\n",
              "      <th>4</th>\n",
              "      <td>Miami-Fort Lauderdale-West Palm Beach, FL</td>\n",
              "      <td>2</td>\n",
              "    </tr>\n",
              "  </tbody>\n",
              "</table>\n",
              "</div>\n",
              "      <button class=\"colab-df-convert\" onclick=\"convertToInteractive('df-aaa9b549-e8b2-4374-96e3-bc225245ea15')\"\n",
              "              title=\"Convert this dataframe to an interactive table.\"\n",
              "              style=\"display:none;\">\n",
              "        \n",
              "  <svg xmlns=\"http://www.w3.org/2000/svg\" height=\"24px\"viewBox=\"0 0 24 24\"\n",
              "       width=\"24px\">\n",
              "    <path d=\"M0 0h24v24H0V0z\" fill=\"none\"/>\n",
              "    <path d=\"M18.56 5.44l.94 2.06.94-2.06 2.06-.94-2.06-.94-.94-2.06-.94 2.06-2.06.94zm-11 1L8.5 8.5l.94-2.06 2.06-.94-2.06-.94L8.5 2.5l-.94 2.06-2.06.94zm10 10l.94 2.06.94-2.06 2.06-.94-2.06-.94-.94-2.06-.94 2.06-2.06.94z\"/><path d=\"M17.41 7.96l-1.37-1.37c-.4-.4-.92-.59-1.43-.59-.52 0-1.04.2-1.43.59L10.3 9.45l-7.72 7.72c-.78.78-.78 2.05 0 2.83L4 21.41c.39.39.9.59 1.41.59.51 0 1.02-.2 1.41-.59l7.78-7.78 2.81-2.81c.8-.78.8-2.07 0-2.86zM5.41 20L4 18.59l7.72-7.72 1.47 1.35L5.41 20z\"/>\n",
              "  </svg>\n",
              "      </button>\n",
              "      \n",
              "  <style>\n",
              "    .colab-df-container {\n",
              "      display:flex;\n",
              "      flex-wrap:wrap;\n",
              "      gap: 12px;\n",
              "    }\n",
              "\n",
              "    .colab-df-convert {\n",
              "      background-color: #E8F0FE;\n",
              "      border: none;\n",
              "      border-radius: 50%;\n",
              "      cursor: pointer;\n",
              "      display: none;\n",
              "      fill: #1967D2;\n",
              "      height: 32px;\n",
              "      padding: 0 0 0 0;\n",
              "      width: 32px;\n",
              "    }\n",
              "\n",
              "    .colab-df-convert:hover {\n",
              "      background-color: #E2EBFA;\n",
              "      box-shadow: 0px 1px 2px rgba(60, 64, 67, 0.3), 0px 1px 3px 1px rgba(60, 64, 67, 0.15);\n",
              "      fill: #174EA6;\n",
              "    }\n",
              "\n",
              "    [theme=dark] .colab-df-convert {\n",
              "      background-color: #3B4455;\n",
              "      fill: #D2E3FC;\n",
              "    }\n",
              "\n",
              "    [theme=dark] .colab-df-convert:hover {\n",
              "      background-color: #434B5C;\n",
              "      box-shadow: 0px 1px 3px 1px rgba(0, 0, 0, 0.15);\n",
              "      filter: drop-shadow(0px 1px 2px rgba(0, 0, 0, 0.3));\n",
              "      fill: #FFFFFF;\n",
              "    }\n",
              "  </style>\n",
              "\n",
              "      <script>\n",
              "        const buttonEl =\n",
              "          document.querySelector('#df-aaa9b549-e8b2-4374-96e3-bc225245ea15 button.colab-df-convert');\n",
              "        buttonEl.style.display =\n",
              "          google.colab.kernel.accessAllowed ? 'block' : 'none';\n",
              "\n",
              "        async function convertToInteractive(key) {\n",
              "          const element = document.querySelector('#df-aaa9b549-e8b2-4374-96e3-bc225245ea15');\n",
              "          const dataTable =\n",
              "            await google.colab.kernel.invokeFunction('convertToInteractive',\n",
              "                                                     [key], {});\n",
              "          if (!dataTable) return;\n",
              "\n",
              "          const docLinkHtml = 'Like what you see? Visit the ' +\n",
              "            '<a target=\"_blank\" href=https://colab.research.google.com/notebooks/data_table.ipynb>data table notebook</a>'\n",
              "            + ' to learn more about interactive tables.';\n",
              "          element.innerHTML = '';\n",
              "          dataTable['output_type'] = 'display_data';\n",
              "          await google.colab.output.renderOutput(dataTable, element);\n",
              "          const docLink = document.createElement('div');\n",
              "          docLink.innerHTML = docLinkHtml;\n",
              "          element.appendChild(docLink);\n",
              "        }\n",
              "      </script>\n",
              "    </div>\n",
              "  </div>\n",
              "  "
            ]
          },
          "metadata": {},
          "execution_count": 34
        }
      ],
      "source": [
        "# churn by location (top 5)\n",
        "\n",
        "churn_rate_location = df[df['churn'] == 1].groupby(['userId', 'location']).size().reset_index(name='churn_count')\n",
        "churn_rate_location = churn_rate_location.groupby('location')['churn_count'].count().reset_index(name='churn_users')\n",
        "top5_locations = churn_rate_location.sort_values('churn_users', ascending=False).head(5).reset_index(drop=True)\n",
        "top5_locations"
      ]
    },
    {
      "cell_type": "markdown",
      "source": [
        "##### **Date**"
      ],
      "metadata": {
        "id": "mKXLMCsRACjV"
      }
    },
    {
      "cell_type": "code",
      "source": [
        "#checking datatypes \n",
        "df['ts'].dtypes"
      ],
      "metadata": {
        "id": "KCJaRHM-7NSV",
        "colab": {
          "base_uri": "https://localhost:8080/"
        },
        "outputId": "ceaf4b06-1d2a-424c-91a8-6afea5c4fd88"
      },
      "execution_count": 87,
      "outputs": [
        {
          "output_type": "execute_result",
          "data": {
            "text/plain": [
              "dtype('int64')"
            ]
          },
          "metadata": {},
          "execution_count": 87
        }
      ]
    },
    {
      "cell_type": "code",
      "source": [
        "#create a date column, strip time\n",
        "\n",
        "df['date'] = pd.to_datetime(df['formatted_ts']).dt.date\n",
        "df.head(4)"
      ],
      "metadata": {
        "id": "WSVfQrq07z5K",
        "colab": {
          "base_uri": "https://localhost:8080/",
          "height": 447
        },
        "outputId": "b4f5f898-7edd-4dc3-ee75-bb10b993d8d1"
      },
      "execution_count": 36,
      "outputs": [
        {
          "output_type": "execute_result",
          "data": {
            "text/plain": [
              "              ts userId  sessionId      page       auth method  status level  \\\n",
              "0  1538352117000     30         29  NextSong  Logged In    PUT     200  paid   \n",
              "1  1538352180000      9          8  NextSong  Logged In    PUT     200  free   \n",
              "2  1538352394000     30         29  NextSong  Logged In    PUT     200  paid   \n",
              "3  1538352416000      9          8  NextSong  Logged In    PUT     200  free   \n",
              "\n",
              "   itemInSession                        location  \\\n",
              "0             50                 Bakersfield, CA   \n",
              "1             79  Boston-Cambridge-Newton, MA-NH   \n",
              "2             51                 Bakersfield, CA   \n",
              "3             80  Boston-Cambridge-Newton, MA-NH   \n",
              "\n",
              "                                           userAgent lastName firstName  \\\n",
              "0  Mozilla/5.0 (Windows NT 6.1; WOW64; rv:31.0) G...  Freeman     Colin   \n",
              "1  \"Mozilla/5.0 (Windows NT 6.1; WOW64) AppleWebK...     Long     Micah   \n",
              "2  Mozilla/5.0 (Windows NT 6.1; WOW64; rv:31.0) G...  Freeman     Colin   \n",
              "3  \"Mozilla/5.0 (Windows NT 6.1; WOW64) AppleWebK...     Long     Micah   \n",
              "\n",
              "   registration gender  songs_per_session         formatted_ts  churn  \\\n",
              "0  1.538173e+12      M                 36  2018-10-01 00:01:57      0   \n",
              "1  1.538332e+12      M                 33  2018-10-01 00:03:00      0   \n",
              "2  1.538173e+12      M                 36  2018-10-01 00:06:34      0   \n",
              "3  1.538332e+12      M                 33  2018-10-01 00:06:56      0   \n",
              "\n",
              "         date  \n",
              "0  2018-10-01  \n",
              "1  2018-10-01  \n",
              "2  2018-10-01  \n",
              "3  2018-10-01  "
            ],
            "text/html": [
              "\n",
              "  <div id=\"df-2be4044c-de3e-41a9-a68f-a755c32fdefa\">\n",
              "    <div class=\"colab-df-container\">\n",
              "      <div>\n",
              "<style scoped>\n",
              "    .dataframe tbody tr th:only-of-type {\n",
              "        vertical-align: middle;\n",
              "    }\n",
              "\n",
              "    .dataframe tbody tr th {\n",
              "        vertical-align: top;\n",
              "    }\n",
              "\n",
              "    .dataframe thead th {\n",
              "        text-align: right;\n",
              "    }\n",
              "</style>\n",
              "<table border=\"1\" class=\"dataframe\">\n",
              "  <thead>\n",
              "    <tr style=\"text-align: right;\">\n",
              "      <th></th>\n",
              "      <th>ts</th>\n",
              "      <th>userId</th>\n",
              "      <th>sessionId</th>\n",
              "      <th>page</th>\n",
              "      <th>auth</th>\n",
              "      <th>method</th>\n",
              "      <th>status</th>\n",
              "      <th>level</th>\n",
              "      <th>itemInSession</th>\n",
              "      <th>location</th>\n",
              "      <th>userAgent</th>\n",
              "      <th>lastName</th>\n",
              "      <th>firstName</th>\n",
              "      <th>registration</th>\n",
              "      <th>gender</th>\n",
              "      <th>songs_per_session</th>\n",
              "      <th>formatted_ts</th>\n",
              "      <th>churn</th>\n",
              "      <th>date</th>\n",
              "    </tr>\n",
              "  </thead>\n",
              "  <tbody>\n",
              "    <tr>\n",
              "      <th>0</th>\n",
              "      <td>1538352117000</td>\n",
              "      <td>30</td>\n",
              "      <td>29</td>\n",
              "      <td>NextSong</td>\n",
              "      <td>Logged In</td>\n",
              "      <td>PUT</td>\n",
              "      <td>200</td>\n",
              "      <td>paid</td>\n",
              "      <td>50</td>\n",
              "      <td>Bakersfield, CA</td>\n",
              "      <td>Mozilla/5.0 (Windows NT 6.1; WOW64; rv:31.0) G...</td>\n",
              "      <td>Freeman</td>\n",
              "      <td>Colin</td>\n",
              "      <td>1.538173e+12</td>\n",
              "      <td>M</td>\n",
              "      <td>36</td>\n",
              "      <td>2018-10-01 00:01:57</td>\n",
              "      <td>0</td>\n",
              "      <td>2018-10-01</td>\n",
              "    </tr>\n",
              "    <tr>\n",
              "      <th>1</th>\n",
              "      <td>1538352180000</td>\n",
              "      <td>9</td>\n",
              "      <td>8</td>\n",
              "      <td>NextSong</td>\n",
              "      <td>Logged In</td>\n",
              "      <td>PUT</td>\n",
              "      <td>200</td>\n",
              "      <td>free</td>\n",
              "      <td>79</td>\n",
              "      <td>Boston-Cambridge-Newton, MA-NH</td>\n",
              "      <td>\"Mozilla/5.0 (Windows NT 6.1; WOW64) AppleWebK...</td>\n",
              "      <td>Long</td>\n",
              "      <td>Micah</td>\n",
              "      <td>1.538332e+12</td>\n",
              "      <td>M</td>\n",
              "      <td>33</td>\n",
              "      <td>2018-10-01 00:03:00</td>\n",
              "      <td>0</td>\n",
              "      <td>2018-10-01</td>\n",
              "    </tr>\n",
              "    <tr>\n",
              "      <th>2</th>\n",
              "      <td>1538352394000</td>\n",
              "      <td>30</td>\n",
              "      <td>29</td>\n",
              "      <td>NextSong</td>\n",
              "      <td>Logged In</td>\n",
              "      <td>PUT</td>\n",
              "      <td>200</td>\n",
              "      <td>paid</td>\n",
              "      <td>51</td>\n",
              "      <td>Bakersfield, CA</td>\n",
              "      <td>Mozilla/5.0 (Windows NT 6.1; WOW64; rv:31.0) G...</td>\n",
              "      <td>Freeman</td>\n",
              "      <td>Colin</td>\n",
              "      <td>1.538173e+12</td>\n",
              "      <td>M</td>\n",
              "      <td>36</td>\n",
              "      <td>2018-10-01 00:06:34</td>\n",
              "      <td>0</td>\n",
              "      <td>2018-10-01</td>\n",
              "    </tr>\n",
              "    <tr>\n",
              "      <th>3</th>\n",
              "      <td>1538352416000</td>\n",
              "      <td>9</td>\n",
              "      <td>8</td>\n",
              "      <td>NextSong</td>\n",
              "      <td>Logged In</td>\n",
              "      <td>PUT</td>\n",
              "      <td>200</td>\n",
              "      <td>free</td>\n",
              "      <td>80</td>\n",
              "      <td>Boston-Cambridge-Newton, MA-NH</td>\n",
              "      <td>\"Mozilla/5.0 (Windows NT 6.1; WOW64) AppleWebK...</td>\n",
              "      <td>Long</td>\n",
              "      <td>Micah</td>\n",
              "      <td>1.538332e+12</td>\n",
              "      <td>M</td>\n",
              "      <td>33</td>\n",
              "      <td>2018-10-01 00:06:56</td>\n",
              "      <td>0</td>\n",
              "      <td>2018-10-01</td>\n",
              "    </tr>\n",
              "  </tbody>\n",
              "</table>\n",
              "</div>\n",
              "      <button class=\"colab-df-convert\" onclick=\"convertToInteractive('df-2be4044c-de3e-41a9-a68f-a755c32fdefa')\"\n",
              "              title=\"Convert this dataframe to an interactive table.\"\n",
              "              style=\"display:none;\">\n",
              "        \n",
              "  <svg xmlns=\"http://www.w3.org/2000/svg\" height=\"24px\"viewBox=\"0 0 24 24\"\n",
              "       width=\"24px\">\n",
              "    <path d=\"M0 0h24v24H0V0z\" fill=\"none\"/>\n",
              "    <path d=\"M18.56 5.44l.94 2.06.94-2.06 2.06-.94-2.06-.94-.94-2.06-.94 2.06-2.06.94zm-11 1L8.5 8.5l.94-2.06 2.06-.94-2.06-.94L8.5 2.5l-.94 2.06-2.06.94zm10 10l.94 2.06.94-2.06 2.06-.94-2.06-.94-.94-2.06-.94 2.06-2.06.94z\"/><path d=\"M17.41 7.96l-1.37-1.37c-.4-.4-.92-.59-1.43-.59-.52 0-1.04.2-1.43.59L10.3 9.45l-7.72 7.72c-.78.78-.78 2.05 0 2.83L4 21.41c.39.39.9.59 1.41.59.51 0 1.02-.2 1.41-.59l7.78-7.78 2.81-2.81c.8-.78.8-2.07 0-2.86zM5.41 20L4 18.59l7.72-7.72 1.47 1.35L5.41 20z\"/>\n",
              "  </svg>\n",
              "      </button>\n",
              "      \n",
              "  <style>\n",
              "    .colab-df-container {\n",
              "      display:flex;\n",
              "      flex-wrap:wrap;\n",
              "      gap: 12px;\n",
              "    }\n",
              "\n",
              "    .colab-df-convert {\n",
              "      background-color: #E8F0FE;\n",
              "      border: none;\n",
              "      border-radius: 50%;\n",
              "      cursor: pointer;\n",
              "      display: none;\n",
              "      fill: #1967D2;\n",
              "      height: 32px;\n",
              "      padding: 0 0 0 0;\n",
              "      width: 32px;\n",
              "    }\n",
              "\n",
              "    .colab-df-convert:hover {\n",
              "      background-color: #E2EBFA;\n",
              "      box-shadow: 0px 1px 2px rgba(60, 64, 67, 0.3), 0px 1px 3px 1px rgba(60, 64, 67, 0.15);\n",
              "      fill: #174EA6;\n",
              "    }\n",
              "\n",
              "    [theme=dark] .colab-df-convert {\n",
              "      background-color: #3B4455;\n",
              "      fill: #D2E3FC;\n",
              "    }\n",
              "\n",
              "    [theme=dark] .colab-df-convert:hover {\n",
              "      background-color: #434B5C;\n",
              "      box-shadow: 0px 1px 3px 1px rgba(0, 0, 0, 0.15);\n",
              "      filter: drop-shadow(0px 1px 2px rgba(0, 0, 0, 0.3));\n",
              "      fill: #FFFFFF;\n",
              "    }\n",
              "  </style>\n",
              "\n",
              "      <script>\n",
              "        const buttonEl =\n",
              "          document.querySelector('#df-2be4044c-de3e-41a9-a68f-a755c32fdefa button.colab-df-convert');\n",
              "        buttonEl.style.display =\n",
              "          google.colab.kernel.accessAllowed ? 'block' : 'none';\n",
              "\n",
              "        async function convertToInteractive(key) {\n",
              "          const element = document.querySelector('#df-2be4044c-de3e-41a9-a68f-a755c32fdefa');\n",
              "          const dataTable =\n",
              "            await google.colab.kernel.invokeFunction('convertToInteractive',\n",
              "                                                     [key], {});\n",
              "          if (!dataTable) return;\n",
              "\n",
              "          const docLinkHtml = 'Like what you see? Visit the ' +\n",
              "            '<a target=\"_blank\" href=https://colab.research.google.com/notebooks/data_table.ipynb>data table notebook</a>'\n",
              "            + ' to learn more about interactive tables.';\n",
              "          element.innerHTML = '';\n",
              "          dataTable['output_type'] = 'display_data';\n",
              "          await google.colab.output.renderOutput(dataTable, element);\n",
              "          const docLink = document.createElement('div');\n",
              "          docLink.innerHTML = docLinkHtml;\n",
              "          element.appendChild(docLink);\n",
              "        }\n",
              "      </script>\n",
              "    </div>\n",
              "  </div>\n",
              "  "
            ]
          },
          "metadata": {},
          "execution_count": 36
        }
      ]
    },
    {
      "cell_type": "markdown",
      "source": [
        "Most people churned in October than in November but November had the highest churn date with 5 people leaving the app on November 2nd. Average number of people who churn in a day is 1.44"
      ],
      "metadata": {
        "id": "nPONe1dSpFoi"
      }
    },
    {
      "cell_type": "code",
      "source": [
        "# churn by month\n",
        "\n",
        "# Convert 'date' column to datetime\n",
        "df['date'] = pd.to_datetime(df['date'])\n",
        "\n",
        "# Extract month from date\n",
        "df['month'] = df['date'].dt.strftime('%B')\n",
        "\n",
        "# Calculate churn by month\n",
        "churn_by_month = df[df['churn'] == 1].groupby('month').size()\n",
        "\n",
        "# Set the figure size\n",
        "plt.figure(figsize=(5, 5))\n",
        "\n",
        "# Create bar chart with adjusted bar width\n",
        "bar_width = 0.1  # Adjust the width of the bars as desired\n",
        "plt.bar(churn_by_month.index, churn_by_month.values, width=bar_width)\n",
        "\n",
        "# Create bar chart\n",
        "plt.bar(churn_by_month.index, churn_by_month.values)\n",
        "plt.xlabel('Month')\n",
        "plt.ylabel('Churn Count')\n",
        "plt.title('Churn by Month')\n",
        "plt.xticks(rotation=45)  # Rotate x-axis labels for better readability\n",
        "plt.show()"
      ],
      "metadata": {
        "id": "DLROclbVbSPW",
        "colab": {
          "base_uri": "https://localhost:8080/",
          "height": 548
        },
        "outputId": "b5dc38f8-a71b-4710-f3dc-2621b5e3b209"
      },
      "execution_count": 38,
      "outputs": [
        {
          "output_type": "display_data",
          "data": {
            "text/plain": [
              "<Figure size 500x500 with 1 Axes>"
            ],
            "image/png": "[encoded data removed]"
          },
          "metadata": {}
        }
      ]
    },
    {
      "cell_type": "code",
      "source": [
        "# Extract the day component\n",
        "df['day'] = df['date'].dt.date\n",
        "\n",
        "# Group by day and count churned users\n",
        "churn_count = df[df['churn'] == 1].groupby('day').size()\n",
        "\n",
        "# Create scatter plot\n",
        "plt.figure(figsize=(10, 6))\n",
        "plt.scatter(churn_count.index, churn_count.values)\n",
        "\n",
        "# Set labels and title\n",
        "plt.xlabel('Day')\n",
        "plt.ylabel('Churn Count')\n",
        "plt.title('Churn Over Time')\n",
        "\n",
        "# Show the plot\n",
        "plt.show()"
      ],
      "metadata": {
        "colab": {
          "base_uri": "https://localhost:8080/",
          "height": 573
        },
        "id": "5Cvr5acSZD2w",
        "outputId": "80827093-d94f-456c-f1a5-9330e3cbd690"
      },
      "execution_count": 57,
      "outputs": [
        {
          "output_type": "display_data",
          "data": {
            "text/plain": [
              "<Figure size 1000x600 with 1 Axes>"
            ],
            "image/png": "[encoded data removed]"
          },
          "metadata": {}
        }
      ]
    },
    {
      "cell_type": "code",
      "source": [
        "df['day'] = df['date'].dt.strftime('%A')  # Get the day name\n",
        "\n",
        "# Group by date and count churned users\n",
        "churn_count_per_day = df[df['churn'] == 1].groupby('date').size()\n",
        "\n",
        "# Find the date with the highest churn\n",
        "max_churn_date = churn_count_per_day.idxmax()\n",
        "max_churn_day = df[df['date'] == max_churn_date]['day'].iloc[0]\n",
        "\n",
        "print(\"Day with the highest churn:\")\n",
        "print(\"Date:\", max_churn_date)\n",
        "print(\"Day:\", max_churn_day)"
      ],
      "metadata": {
        "colab": {
          "base_uri": "https://localhost:8080/"
        },
        "id": "pvCRzliZfQpE",
        "outputId": "9c3b23bd-3c15-461d-d661-711531410305"
      },
      "execution_count": 60,
      "outputs": [
        {
          "output_type": "stream",
          "name": "stdout",
          "text": [
            "Day with the highest churn:\n",
            "Date: 2018-11-02 00:00:00\n",
            "Day: Friday\n"
          ]
        }
      ]
    },
    {
      "cell_type": "code",
      "source": [
        "# Group by day and count churned users\n",
        "churn_count_per_day = df[df['churn'] == 1].groupby('day').size()\n",
        "\n",
        "# Calculate the average churn count per day\n",
        "average_churn_per_day = churn_count_per_day.mean()\n",
        "\n",
        "print(\"Average number of people who churn in a day:\", average_churn_per_day)"
      ],
      "metadata": {
        "colab": {
          "base_uri": "https://localhost:8080/"
        },
        "id": "LLS8FtENZkqi",
        "outputId": "d77c0b49-650e-4571-a8dd-ba3a11b5d691"
      },
      "execution_count": 58,
      "outputs": [
        {
          "output_type": "stream",
          "name": "stdout",
          "text": [
            "Average number of people who churn in a day: 1.4444444444444444\n"
          ]
        }
      ]
    },
    {
      "cell_type": "markdown",
      "source": [
        "####**Songs per session/session IDs**"
      ],
      "metadata": {
        "id": "jwQ9ioOcrJTC"
      }
    },
    {
      "cell_type": "code",
      "execution_count": 50,
      "metadata": {
        "id": "p9eQRVtenDms",
        "colab": {
          "base_uri": "https://localhost:8080/"
        },
        "outputId": "2f0d8492-6500-4dc2-b68b-0f1ccd5de6fb"
      },
      "outputs": [
        {
          "output_type": "stream",
          "name": "stdout",
          "text": [
            "Users who churned used the app an average of 10.33 session IDs.\n",
            "Users who did not churn used the app an average of 15.25 session IDs.\n"
          ]
        }
      ],
      "source": [
        "# average # of session ids per userID (to see if how frequently someone uses the app affects churn)\n",
        "\n",
        "churned_users = df[df['churn'] == 1]['userId'].unique()\n",
        "# Filter the dataframe to include only churned users\n",
        "churned_data = df[df['userId'].isin(churned_users)].groupby('userId')['sessionId'].nunique()\n",
        "\n",
        "# data of users who did not churn\n",
        "not_churned_users = df[~df['userId'].isin(churned_users)]\n",
        "\n",
        "avg_sessions_churned = churned_data.mean()\n",
        "avg_sessions_not_churned = not_churned_users.groupby('userId')['sessionId'].nunique().mean()\n",
        "\n",
        "print(\"Users who churned used the app an average of {:.2f} session IDs.\".format(avg_sessions_churned))\n",
        "print(\"Users who did not churn used the app an average of {:.2f} session IDs.\".format(avg_sessions_not_churned))\n"
      ]
    },
    {
      "cell_type": "markdown",
      "source": [
        "Most users who churned had less than 13 sessions within the \n",
        "timeframe of this dataset, indicating a low level of engagement before churning.\n",
        "\n",
        "The maximum number of sessions for churned users was approximately 37, while the maximum for active users was over 100, although this was considered an outlier.\n",
        "\n",
        "The distribution of session counts for active users is skewed towards lower values, indicating that a significant portion of active users had a relatively low number of sessions."
      ],
      "metadata": {
        "id": "_kV48rkixrDs"
      }
    },
    {
      "cell_type": "code",
      "source": [
        "# Calculate count of sessions per user for churned and not churned users\n",
        "count_sessions_churned = df[df['userId'].isin(churned_users)].groupby('userId')['sessionId'].nunique()\n",
        "count_sessions_not_churned = df[~df['userId'].isin(churned_users)].groupby('userId')['sessionId'].nunique()\n",
        "\n",
        "# Plot count of sessions for churned users\n",
        "plt.bar(count_sessions_churned.index, count_sessions_churned.values)\n",
        "plt.xlabel('User ID')\n",
        "plt.ylabel('Count of Sessions')\n",
        "plt.title('Count of Sessions per User for Churned Users')\n",
        "plt.xticks(rotation=45)  # Rotate x-axis labels for better readability\n",
        "plt.show()\n",
        "\n",
        "# Plot count of sessions for not churned users\n",
        "plt.bar(count_sessions_not_churned.index, count_sessions_not_churned.values)\n",
        "plt.xlabel('User ID')\n",
        "plt.ylabel('Count of Sessions')\n",
        "plt.title('Count of Sessions per User for Not Churned Users')\n",
        "plt.xticks([])  # Remove the tick marks on the X-axis since they are crowded\n",
        "plt.show()\n"
      ],
      "metadata": {
        "id": "FLcca2bciDIJ",
        "colab": {
          "base_uri": "https://localhost:8080/",
          "height": 366
        },
        "outputId": "00a75401-3766-40b9-e135-d74132f6c6a0"
      },
      "execution_count": 51,
      "outputs": [
        {
          "output_type": "display_data",
          "data": {
            "text/plain": [
              "<Figure size 1000x100 with 1 Axes>"
            ],
            "image/png": "[encoded data removed]"
          },
          "metadata": {}
        },
        {
          "output_type": "display_data",
          "data": {
            "text/plain": [
              "<Figure size 1000x100 with 1 Axes>"
            ],
            "image/png": "[encoded data removed]"
          },
          "metadata": {}
        }
      ]
    },
    {
      "cell_type": "markdown",
      "source": [
        "**Removing Outliers (users with high number of session counts) to see how that will affect our data.**"
      ],
      "metadata": {
        "id": "Cic1rMnCSPE8"
      }
    },
    {
      "cell_type": "code",
      "source": [
        "# Remove outliers using IQR method for churned users\n",
        "q1_churned = count_sessions_churned.quantile(0.25)\n",
        "q3_churned = count_sessions_churned.quantile(0.75)\n",
        "iqr_churned = q3_churned - q1_churned\n",
        "lower_bound_churned = q1_churned - 1.5 * iqr_churned\n",
        "upper_bound_churned = q3_churned + 1.5 * iqr_churned\n",
        "count_sessions_churned = count_sessions_churned[count_sessions_churned <= upper_bound_churned]\n",
        "\n",
        "# Remove outliers using IQR method for not churned users\n",
        "q1_not_churned = count_sessions_not_churned.quantile(0.25)\n",
        "q3_not_churned = count_sessions_not_churned.quantile(0.75)\n",
        "iqr_not_churned = q3_not_churned - q1_not_churned\n",
        "lower_bound_not_churned = q1_not_churned - 1.5 * iqr_not_churned\n",
        "upper_bound_not_churned = q3_not_churned + 1.5 * iqr_not_churned\n",
        "count_sessions_not_churned = count_sessions_not_churned[count_sessions_not_churned <= upper_bound_not_churned]\n",
        "\n",
        "# Calculate the average number of sessions for churned users after removing outliers\n",
        "avg_sessions_churned = count_sessions_churned.mean()\n",
        "\n",
        "# Calculate the average number of sessions for not churned users after removing outliers\n",
        "avg_sessions_not_churned = count_sessions_not_churned.mean()\n",
        "\n",
        "# Print the results\n",
        "print(\"Average number of sessions for users who churned: {:.2f}\".format(avg_sessions_churned))\n",
        "print(\"Average number of sessions for users who did not churn: {:.2f}\".format(avg_sessions_not_churned))\n"
      ],
      "metadata": {
        "colab": {
          "base_uri": "https://localhost:8080/"
        },
        "id": "PycLQ4ErP_vH",
        "outputId": "e7f776b6-f34c-456c-f341-09069d5e5dad"
      },
      "execution_count": 52,
      "outputs": [
        {
          "output_type": "stream",
          "name": "stdout",
          "text": [
            "Average number of sessions for users who churned: 8.44\n",
            "Average number of sessions for users who did not churn: 12.28\n"
          ]
        }
      ]
    },
    {
      "cell_type": "markdown",
      "source": [
        "Most users had less than 15 sessions for both churn and non churn. Churned users had less sessions overall. Most users who remained active had a count of about 6 sessions and most users who churned had 1 session."
      ],
      "metadata": {
        "id": "HA9EGls1rVAB"
      }
    },
    {
      "cell_type": "code",
      "source": [
        "# Calculate count of sessions per user for churned and not churned users\n",
        "#count_sessions_churned = df[df['userId'].isin(churned_users)].groupby('userId')['sessionId'].nunique()\n",
        "#count_sessions_not_churned = df[df['churn'] == 0].groupby('userId')['sessionId'].nunique()\n",
        "\n",
        "# Create aggregated data for bar chart\n",
        "agg_data_churned = count_sessions_churned.value_counts().sort_index()\n",
        "agg_data_not_churned = count_sessions_not_churned.value_counts().sort_index()\n",
        "\n",
        "# Plot bar chart with aggregated data for churned users\n",
        "plt.bar(agg_data_churned.index, agg_data_churned.values)\n",
        "plt.xlabel('Count of Sessions')\n",
        "plt.ylabel('Count of Users')\n",
        "plt.title('Distribution of Sessions per User for Churned Users')\n",
        "plt.show()\n",
        "\n",
        "# Plot bar chart with aggregated data for not churned users\n",
        "plt.bar(agg_data_not_churned.index, agg_data_not_churned.values)\n",
        "plt.xlabel('Count of Sessions')\n",
        "plt.ylabel('Count of Users')\n",
        "plt.title('Distribution of Sessions per User for Not Churned Users')\n",
        "plt.show()\n"
      ],
      "metadata": {
        "colab": {
          "base_uri": "https://localhost:8080/",
          "height": 359
        },
        "id": "4iiH5wf7wCDu",
        "outputId": "0692b2d9-497a-41f7-de27-af113598eb67"
      },
      "execution_count": 53,
      "outputs": [
        {
          "output_type": "display_data",
          "data": {
            "text/plain": [
              "<Figure size 1000x100 with 1 Axes>"
            ],
            "image/png": "[encoded data removed]"
          },
          "metadata": {}
        },
        {
          "output_type": "display_data",
          "data": {
            "text/plain": [
              "<Figure size 1000x100 with 1 Axes>"
            ],
            "image/png": "[encoded data removed]"
          },
          "metadata": {}
        }
      ]
    },
    {
      "cell_type": "markdown",
      "source": [
        "##**Conclusions**:\n",
        "\n",
        "Based on the sample data, the frequency of app usage appears to be a significant indicator of churn. Frequent users tend to have lower churn rates compared to less active users.\n",
        "\n",
        "The average session count for users who did not churn was 15.25, while users who churned had an average session count of 10.33. This suggests that users who engage with the app more frequently are less likely to churn.\n",
        "\n",
        "The data indicates that there is a higher proportion of active users compared to users who churned. This implies that the app has a relatively stable user base, but there is room for improvement in reducing churn rates.\n",
        "\n",
        "The data also reveals that there are more paid users than free users within the sample. This suggests that the app may have a successful monetization strategy, as paid users are more prevalent.\n",
        "\n",
        "Additionally, the data shows that most days in the sample data had only one user who churned. This could indicate that churn events are relatively sporadic and not widespread.\n",
        "\n",
        "For machine learning purposes, it would be necessary to normalize the data by applying preprocessing techniques such as scaling or standardization. This normalization step ensures that the data is on a consistent scale and can be effectively used in machine learning algorithms.\n",
        "\n",
        "Overall, these insights highlight the importance of encouraging frequent app usage, improving user engagement, and implementing strategies to retain users and reduce churn."
      ],
      "metadata": {
        "id": "ctt8EExi4rrq"
      }
    }
  ],
  "metadata": {
    "colab": {
      "provenance": []
    },
    "kernelspec": {
      "display_name": "Python 3",
      "name": "python3"
    },
    "language_info": {
      "name": "python"
    }
  },
  "nbformat": 4,
  "nbformat_minor": 0
}